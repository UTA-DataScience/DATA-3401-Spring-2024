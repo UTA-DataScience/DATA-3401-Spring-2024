{
  "nbformat": 4,
  "nbformat_minor": 0,
  "metadata": {
    "colab": {
      "provenance": []
    },
    "kernelspec": {
      "name": "python3",
      "display_name": "Python 3"
    },
    "language_info": {
      "name": "python"
    }
  },
  "cells": [
    {
      "cell_type": "markdown",
      "source": [
        "# **<center>Midterm Exam &ndash; DATA 3401 (Spring 2024)</center>**\n",
        "\n",
        "## Start Date: **2/21**\n",
        "## Due Date: **2/23** (at 5:30pm)\n",
        "## There will be **no Lab on Friday 2/23**\n",
        "\n",
        "\n",
        "---\n",
        "\n",
        "\n",
        "\n",
        "##**Midterm Rules**\n",
        "This midterm exam is essentially like a short-term lab. Please work the exercises below **on your own**.  When you have completed the exam, you should upload your completed python file in the Canvas.\n",
        "\n",
        "you should not use **ChatGPT** and not discuss the problems with **anyone else**, including persons on an online internet forum. Consulting an outside source like this will be considered an academic integrity violation.\n",
        "\n",
        "You may use all class resources including previous labs and lectures, and anything posted on Teams.\n"
      ],
      "metadata": {
        "id": "UgNMRT1siGsJ"
      }
    },
    {
      "cell_type": "markdown",
      "source": [
        "\n",
        "\n",
        "---\n",
        "\n",
        "\n",
        "\n",
        "---\n",
        "\n",
        "\n",
        "\n",
        "---\n",
        "\n"
      ],
      "metadata": {
        "id": "87u3MYZInfSO"
      }
    },
    {
      "cell_type": "markdown",
      "source": [
        "## **Question 1:**\n",
        "\n",
        "### - Given a list **numbers = [4, 2, 2, 8, 3, 2, 4, 4, 3, 1, 9,12]**\n",
        "\n",
        "\n",
        "- Your task is to write a Python program that extracts and prints the unique numbers from the list in the order of their first occurrence\n",
        "\n",
        "**Tip:**\n",
        "- Consider using a for loop and a conditional statement as one approach to solve this question.\n",
        "- Your python code should generate a list containing unique numbers."
      ],
      "metadata": {
        "id": "5GW2KHKtZPir"
      }
    },
    {
      "cell_type": "code",
      "source": [
        "\n",
        "\n",
        "\n",
        "\n",
        "\n",
        "\n",
        "\n",
        "\n",
        "\n",
        "\n",
        "\n",
        "\n",
        "\n",
        "\n",
        "\n",
        "\n"
      ],
      "metadata": {
        "id": "R1Ucwp1TTZE9"
      },
      "execution_count": null,
      "outputs": []
    },
    {
      "cell_type": "markdown",
      "source": [
        "\n",
        "\n",
        "---\n",
        "\n",
        "\n",
        "\n",
        "---\n",
        "\n",
        "\n",
        "\n",
        "---\n",
        "\n"
      ],
      "metadata": {
        "id": "nh0EHvhDoB00"
      }
    },
    {
      "cell_type": "markdown",
      "source": [
        "## **Question 2:**\n",
        "\n",
        "* Given a number x=5,\n",
        "\n",
        "* Write a code to check if it's even or odd and print the result."
      ],
      "metadata": {
        "id": "4kocp68tZ9PL"
      }
    },
    {
      "cell_type": "code",
      "source": [
        "\n",
        "\n",
        "\n",
        "\n",
        "\n",
        "\n",
        "\n",
        "\n",
        "\n",
        "\n",
        "\n",
        "\n",
        "\n",
        "\n"
      ],
      "metadata": {
        "id": "C0Z3jot_ZHsi"
      },
      "execution_count": null,
      "outputs": []
    },
    {
      "cell_type": "markdown",
      "source": [
        "\n",
        "\n",
        "---\n",
        "\n",
        "\n",
        "\n",
        "---\n",
        "\n",
        "\n",
        "\n",
        "---\n",
        "\n"
      ],
      "metadata": {
        "id": "kzBnWsVSn-y2"
      }
    },
    {
      "cell_type": "markdown",
      "source": [
        "## **Question 3:**"
      ],
      "metadata": {
        "id": "mDuU1H81YXDR"
      }
    },
    {
      "cell_type": "markdown",
      "source": [
        "#### Python Median Finder\n",
        "\n",
        "You have three numbers: `a=5`, `b=9`, and `c=2`. Your task is to determine the median (the middle value) of these three numbers without sorting them, using nested conditional statements. Implement a Python program that follows these steps:\n",
        "\n",
        "1. **First, compare `a` and `b`:**\n",
        "   - If `a` is greater than `b`, then `a` could either be the largest or the median. Next, compare `a` and `c`:\n",
        "     - If `a` is less than `c`, then `a` is the median.\n",
        "     - Else, compare `b` and `c`:\n",
        "       - If `b` is greater than `c`, then `b` is the median.\n",
        "       - Otherwise, `c` is the median.\n",
        "\n",
        "2. **If `a` is not greater than `b` (meaning `a` is less than or equal to `b`), then `b` could either be the largest or the median. Next, compare `a` and `c`:**\n",
        "   - If `a` is greater than `c`, then `a` is the median.\n",
        "   - Else, compare `b` and `c`:\n",
        "     - If `b` is less than `c`, then `b` is the median.\n",
        "     - Otherwise, `c` is the median.\n",
        "\n"
      ],
      "metadata": {
        "id": "eTExPxEMasYE"
      }
    },
    {
      "cell_type": "code",
      "source": [
        "\n",
        "\n",
        "\n",
        "\n",
        "\n",
        "\n",
        "\n",
        "\n",
        "\n",
        "\n",
        "\n"
      ],
      "metadata": {
        "id": "71P5ifeAZHxO"
      },
      "execution_count": null,
      "outputs": []
    },
    {
      "cell_type": "markdown",
      "source": [
        "\n",
        "\n",
        "---\n",
        "\n",
        "\n",
        "\n",
        "---\n",
        "\n",
        "\n",
        "\n",
        "---\n",
        "\n"
      ],
      "metadata": {
        "id": "6v6PxUFSewdW"
      }
    },
    {
      "cell_type": "markdown",
      "source": [
        "### **Question 4:**\n",
        "\n",
        "* Checking the Type of Triangle (Equilateral Triangle; Isosceles Triangle;   Scalene Triangle) based on Side Lengths:\n",
        "\n",
        "side1 = 3\n",
        "\n",
        "side2 = 4\n",
        "\n",
        "side3 = 5"
      ],
      "metadata": {
        "id": "BMsd2xiFgbNa"
      }
    },
    {
      "cell_type": "code",
      "source": [
        "\n",
        "\n",
        "\n",
        "\n",
        "\n",
        "\n",
        "\n",
        "\n",
        "\n",
        "\n",
        "\n",
        "\n",
        "\n",
        "\n",
        "\n",
        "\n",
        "\n",
        "\n",
        "\n",
        "\n"
      ],
      "metadata": {
        "id": "nB99O68cZH2I"
      },
      "execution_count": null,
      "outputs": []
    },
    {
      "cell_type": "markdown",
      "source": [
        "\n",
        "\n",
        "---\n",
        "\n",
        "\n",
        "\n",
        "---\n",
        "\n",
        "\n",
        "\n",
        "---\n",
        "\n"
      ],
      "metadata": {
        "id": "wtxbXcRCmcf1"
      }
    },
    {
      "cell_type": "markdown",
      "source": [
        "### **Question 5:**  \n",
        "\n",
        "Write a Python function named **convert_grade** that takes a numerical grade (0-100) and returns its letter equivalent. Use the following grading scale:\n",
        "\n",
        "- 90-100: 'A'\n",
        "- 80-89: 'B'\n",
        "- 70-79: 'C'\n",
        "- 60-69: 'D'\n",
        "- Below 60: 'F'"
      ],
      "metadata": {
        "id": "T7-bIYsuW59q"
      }
    },
    {
      "cell_type": "code",
      "source": [
        "\n",
        "\n",
        "\n",
        "\n",
        "\n",
        "\n",
        "\n",
        "\n",
        "\n",
        "\n",
        "\n",
        "\n",
        "\n",
        "\n",
        "\n"
      ],
      "metadata": {
        "id": "Hj_RrmHcW4xU"
      },
      "execution_count": null,
      "outputs": []
    },
    {
      "cell_type": "markdown",
      "source": [
        "\n",
        "\n",
        "---\n",
        "\n",
        "\n",
        "\n",
        "---\n",
        "\n",
        "\n",
        "\n",
        "---\n",
        "\n"
      ],
      "metadata": {
        "id": "QxGD7uCQo5j1"
      }
    },
    {
      "cell_type": "markdown",
      "source": [
        "## **Question 6:**\n",
        "\n",
        "Implement a function named **apply_discoun**t that takes the original price of an item and its category as inputs. If the category is \"electronics\", give a 10% discount. If it's \"clothes\", give a 5% discount. For all other categories, give a 2% discount."
      ],
      "metadata": {
        "id": "kGo6pvjtXMUG"
      }
    },
    {
      "cell_type": "code",
      "source": [
        "\n",
        "\n",
        "\n",
        "\n",
        "\n",
        "\n",
        "\n",
        "\n",
        "\n",
        "\n",
        "\n",
        "\n",
        "\n",
        "\n",
        "\n",
        "\n"
      ],
      "metadata": {
        "id": "MuBxQeOzW42y"
      },
      "execution_count": null,
      "outputs": []
    },
    {
      "cell_type": "markdown",
      "source": [
        "## **Question 7:**\n",
        "\n",
        "Given the lengths of three sides of a triangle, write a Python function called **triangle_type** that determines if the triangle is equilateral, isosceles, or scalene.\n",
        "\n"
      ],
      "metadata": {
        "id": "Y5BZuCxcY2q5"
      }
    },
    {
      "cell_type": "code",
      "source": [
        "\n",
        "\n",
        "\n",
        "\n",
        "\n",
        "\n",
        "\n",
        "\n",
        "\n",
        "\n",
        "\n",
        "\n",
        "\n",
        "\n"
      ],
      "metadata": {
        "id": "deKUPpUQZKql"
      },
      "execution_count": null,
      "outputs": []
    },
    {
      "cell_type": "markdown",
      "source": [
        "\n",
        "\n",
        "---\n",
        "\n",
        "\n",
        "\n",
        "---\n",
        "\n",
        "\n",
        "\n",
        "---\n",
        "\n"
      ],
      "metadata": {
        "id": "tFJ8tCAInDX0"
      }
    },
    {
      "cell_type": "markdown",
      "source": [
        "## **Question 8:**\n",
        "\n",
        "Write a Python program that prints all the numbers from 0 to 6 except 3 and 6."
      ],
      "metadata": {
        "id": "VoGbvF1tX0k5"
      }
    },
    {
      "cell_type": "code",
      "source": [
        "\n",
        "\n",
        "\n",
        "\n",
        "\n",
        "\n",
        "\n",
        "\n",
        "\n",
        "\n",
        "\n",
        "\n"
      ],
      "metadata": {
        "id": "Gee3QAdpnF6e"
      },
      "execution_count": null,
      "outputs": []
    },
    {
      "cell_type": "markdown",
      "source": [
        "\n",
        "\n",
        "---\n",
        "\n",
        "\n",
        "\n",
        "---\n",
        "\n",
        "\n",
        "\n",
        "---\n",
        "\n"
      ],
      "metadata": {
        "id": "l6nRl8q4nGAs"
      }
    },
    {
      "cell_type": "markdown",
      "source": [
        "## **Question 9:**\n",
        "\n",
        "Write a Python program to convert **temperatures** to and from **celsius**, **fahrenheit**."
      ],
      "metadata": {
        "id": "v_IaL3VanSev"
      }
    },
    {
      "cell_type": "code",
      "source": [
        "\n",
        "\n",
        "\n",
        "\n",
        "\n",
        "\n",
        "\n",
        "\n",
        "\n",
        "\n",
        "\n",
        "\n",
        "\n"
      ],
      "metadata": {
        "id": "Vuilm2r9nSo8"
      },
      "execution_count": null,
      "outputs": []
    },
    {
      "cell_type": "markdown",
      "source": [
        "\n",
        "\n",
        "---\n",
        "\n",
        "\n",
        "\n",
        "---\n",
        "\n",
        "\n",
        "\n",
        "---\n",
        "\n"
      ],
      "metadata": {
        "id": "vkEZdWnBnSvn"
      }
    },
    {
      "cell_type": "markdown",
      "source": [
        "## **Question 10:**\n",
        "\n",
        "Write a function to count the number of even and odd numbers from a series of numbers.\n",
        "\n",
        "numbers = [1, 2, 3, 4, 5, 6, 7, 8, 9]"
      ],
      "metadata": {
        "id": "296qG7HCmzIE"
      }
    },
    {
      "cell_type": "code",
      "source": [
        "\n",
        "\n",
        "\n",
        "\n",
        "\n",
        "\n",
        "\n",
        "\n",
        "\n",
        "\n",
        "\n",
        "\n",
        "\n",
        "\n",
        "\n"
      ],
      "metadata": {
        "id": "J7eirZu1XyuP"
      },
      "execution_count": null,
      "outputs": []
    }
  ]
}