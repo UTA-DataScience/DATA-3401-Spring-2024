{
  "nbformat": 4,
  "nbformat_minor": 0,
  "metadata": {
    "colab": {
      "provenance": []
    },
    "kernelspec": {
      "name": "python3",
      "display_name": "Python 3"
    },
    "language_info": {
      "name": "python"
    }
  },
  "cells": [
    {
      "cell_type": "markdown",
      "source": [
        "# **Week 13. Lab-Data Visualization**\n",
        "\n",
        "## Please use the **churn** dataset to answer these questions."
      ],
      "metadata": {
        "id": "jNREZD6n5nVR"
      }
    },
    {
      "cell_type": "markdown",
      "source": [
        "\n",
        "\n",
        "---\n",
        "\n",
        "\n",
        "\n",
        "---\n",
        "\n",
        "\n",
        "\n",
        "---\n",
        "\n"
      ],
      "metadata": {
        "id": "bq9M8xqiBBlA"
      }
    },
    {
      "cell_type": "markdown",
      "source": [
        "### **Question 1**"
      ],
      "metadata": {
        "id": "-5fqWQhCBDJn"
      }
    },
    {
      "cell_type": "markdown",
      "source": [
        "### Create a bar chart to visualize the distribution of 'Geography' among customers."
      ],
      "metadata": {
        "id": "18dBvnsFI2Jg"
      }
    },
    {
      "cell_type": "code",
      "source": [
        "\n",
        "\n",
        "\n",
        "\n",
        "\n",
        "\n",
        "\n",
        "\n",
        "\n",
        "\n",
        "\n",
        "\n",
        "\n"
      ],
      "metadata": {
        "id": "aozQtm-AI4ft"
      },
      "execution_count": null,
      "outputs": []
    },
    {
      "cell_type": "markdown",
      "source": [
        "\n",
        "\n",
        "---\n",
        "\n",
        "\n",
        "\n",
        "---\n",
        "\n",
        "\n",
        "\n",
        "---\n",
        "\n"
      ],
      "metadata": {
        "id": "f3mqYSdnBNt0"
      }
    },
    {
      "cell_type": "markdown",
      "source": [
        "### **Question 2**"
      ],
      "metadata": {
        "id": "rEFHhhVDBIop"
      }
    },
    {
      "cell_type": "markdown",
      "source": [
        "### Create a histogram to visualize the distribution of 'Age' among customers"
      ],
      "metadata": {
        "id": "76idL_T6I4p6"
      }
    },
    {
      "cell_type": "code",
      "source": [
        "\n",
        "\n",
        "\n",
        "\n",
        "\n",
        "\n",
        "\n",
        "\n",
        "\n",
        "\n",
        "\n"
      ],
      "metadata": {
        "id": "3tJpdzinJAmP"
      },
      "execution_count": null,
      "outputs": []
    },
    {
      "cell_type": "markdown",
      "source": [
        "\n",
        "\n",
        "---\n",
        "\n",
        "\n",
        "\n",
        "---\n",
        "\n",
        "\n",
        "\n",
        "---\n",
        "\n"
      ],
      "metadata": {
        "id": "cbpu-rX5BQMD"
      }
    },
    {
      "cell_type": "markdown",
      "source": [
        "### **Question 3**"
      ],
      "metadata": {
        "id": "C1QpzPNHBRXX"
      }
    },
    {
      "cell_type": "markdown",
      "source": [
        "### Create a pie chart to show the proportion of 'Gender' in the dataset"
      ],
      "metadata": {
        "id": "ACiWw8LoJCPs"
      }
    },
    {
      "cell_type": "code",
      "source": [
        "\n",
        "\n",
        "\n",
        "\n",
        "\n",
        "\n",
        "\n",
        "\n",
        "\n",
        "\n",
        "\n",
        "\n"
      ],
      "metadata": {
        "id": "F4VVl20LJE_o"
      },
      "execution_count": null,
      "outputs": []
    },
    {
      "cell_type": "markdown",
      "source": [
        "\n",
        "\n",
        "---\n",
        "\n",
        "\n",
        "\n",
        "---\n",
        "\n",
        "\n",
        "\n",
        "---\n",
        "\n"
      ],
      "metadata": {
        "id": "5sUy6ljVBUEs"
      }
    },
    {
      "cell_type": "markdown",
      "source": [
        "### **Question 4**"
      ],
      "metadata": {
        "id": "b8JbgcPRBVSU"
      }
    },
    {
      "cell_type": "markdown",
      "source": [
        "### Create a boxplot for 'CreditScore' to identify outliers"
      ],
      "metadata": {
        "id": "alyHnbREJG6_"
      }
    },
    {
      "cell_type": "code",
      "source": [
        "\n",
        "\n",
        "\n",
        "\n",
        "\n",
        "\n",
        "\n",
        "\n",
        "\n",
        "\n",
        "\n"
      ],
      "metadata": {
        "id": "hZJ8HX2OJHhM"
      },
      "execution_count": null,
      "outputs": []
    },
    {
      "cell_type": "markdown",
      "source": [
        "\n",
        "\n",
        "---\n",
        "\n",
        "\n",
        "\n",
        "---\n",
        "\n",
        "\n",
        "\n",
        "---\n",
        "\n"
      ],
      "metadata": {
        "id": "_KHjtjJ4Bd9-"
      }
    },
    {
      "cell_type": "markdown",
      "source": [
        "### **Question 5**"
      ],
      "metadata": {
        "id": "C2DKr7apBfMq"
      }
    },
    {
      "cell_type": "markdown",
      "source": [
        "### Create a scatter plot of 'Age' vs. 'Balance' to explore the relationship between these two variables"
      ],
      "metadata": {
        "id": "zK80AXdQJLlI"
      }
    },
    {
      "cell_type": "code",
      "source": [
        "\n",
        "\n",
        "\n",
        "\n",
        "\n",
        "\n",
        "\n",
        "\n",
        "\n",
        "\n",
        "\n",
        "\n",
        "\n",
        "\n"
      ],
      "metadata": {
        "id": "0kyNU_sLJO8q"
      },
      "execution_count": null,
      "outputs": []
    },
    {
      "cell_type": "markdown",
      "source": [
        "\n",
        "\n",
        "\n",
        "---\n",
        "\n",
        "\n",
        "\n",
        "---\n",
        "\n",
        "\n",
        "---\n",
        "\n"
      ],
      "metadata": {
        "id": "0Nz430guBhY1"
      }
    },
    {
      "cell_type": "markdown",
      "source": [
        "### **Question 6**"
      ],
      "metadata": {
        "id": "V0LQ2TyVBida"
      }
    },
    {
      "cell_type": "markdown",
      "source": [
        "### Create a line chart to visualize the change in 'NumOfProducts' over 'Age'."
      ],
      "metadata": {
        "id": "QnV9wNrmJQZ2"
      }
    },
    {
      "cell_type": "code",
      "source": [
        "\n",
        "\n",
        "\n",
        "\n",
        "\n",
        "\n",
        "\n",
        "\n",
        "\n",
        "\n",
        "\n",
        "\n",
        "\n"
      ],
      "metadata": {
        "id": "k2NCAh2DJU8n"
      },
      "execution_count": null,
      "outputs": []
    },
    {
      "cell_type": "markdown",
      "source": [
        "### **Question 7**"
      ],
      "metadata": {
        "id": "WrQts20GBkMK"
      }
    },
    {
      "cell_type": "markdown",
      "source": [
        "### Create a bar chart to show the count of 'Exited' customers (churned vs. retained)."
      ],
      "metadata": {
        "id": "b8JENRTEJWrP"
      }
    },
    {
      "cell_type": "code",
      "source": [
        "\n",
        "\n",
        "\n",
        "\n",
        "\n",
        "\n",
        "\n",
        "\n",
        "\n",
        "\n",
        "\n"
      ],
      "metadata": {
        "id": "u8Pq19jYJZE9"
      },
      "execution_count": null,
      "outputs": []
    },
    {
      "cell_type": "markdown",
      "source": [
        "\n",
        "\n",
        "---\n",
        "\n",
        "\n",
        "\n",
        "---\n",
        "\n",
        "\n",
        "\n",
        "---\n",
        "\n"
      ],
      "metadata": {
        "id": "D-R3DXB5BnwO"
      }
    },
    {
      "cell_type": "markdown",
      "source": [
        "### **Question 8**"
      ],
      "metadata": {
        "id": "BSw90p82BpJk"
      }
    },
    {
      "cell_type": "markdown",
      "source": [
        "### Create a violin plot for 'Tenure' and 'Age' to compare their distributions."
      ],
      "metadata": {
        "id": "pPgi_a15Jfu3"
      }
    },
    {
      "cell_type": "code",
      "source": [
        "\n",
        "\n",
        "\n",
        "\n",
        "\n",
        "\n",
        "\n",
        "\n",
        "\n",
        "\n",
        "\n",
        "\n",
        "\n",
        "\n",
        "\n",
        "\n"
      ],
      "metadata": {
        "id": "uR7mJNHeJjD1"
      },
      "execution_count": null,
      "outputs": []
    },
    {
      "cell_type": "markdown",
      "source": [
        "\n",
        "\n",
        "---\n",
        "\n",
        "\n",
        "\n",
        "---\n",
        "\n",
        "\n",
        "\n",
        "---\n",
        "\n"
      ],
      "metadata": {
        "id": "yDu9EUhYBr9H"
      }
    },
    {
      "cell_type": "markdown",
      "source": [
        "### **Question 9**"
      ],
      "metadata": {
        "id": "wxSv5We_Br_e"
      }
    },
    {
      "cell_type": "markdown",
      "source": [
        "### Create a bar chart to show the count of 'HasCrCard' (having vs. not having a credit card)."
      ],
      "metadata": {
        "id": "BKK_JJHJJk3C"
      }
    },
    {
      "cell_type": "code",
      "source": [
        "\n",
        "\n",
        "\n",
        "\n",
        "\n",
        "\n",
        "\n",
        "\n",
        "\n",
        "\n",
        "\n",
        "\n",
        "\n",
        "\n"
      ],
      "metadata": {
        "id": "EOe3SiS2JpSv"
      },
      "execution_count": null,
      "outputs": []
    },
    {
      "cell_type": "markdown",
      "source": [
        "\n",
        "\n",
        "---\n",
        "\n",
        "\n",
        "\n",
        "---\n",
        "\n",
        "\n",
        "\n",
        "---\n",
        "\n"
      ],
      "metadata": {
        "id": "UHK_1SlQBvCJ"
      }
    },
    {
      "cell_type": "markdown",
      "source": [
        "### **Question 10**"
      ],
      "metadata": {
        "id": "qBxAsCQyB34c"
      }
    },
    {
      "cell_type": "markdown",
      "source": [
        "### Create a bar chart to visualize the distribution of 'NumOfProducts' for customers with different 'Tenure' values."
      ],
      "metadata": {
        "id": "NrtH5e-1KE3U"
      }
    },
    {
      "cell_type": "code",
      "source": [
        "\n",
        "\n",
        "\n",
        "\n",
        "\n",
        "\n",
        "\n",
        "\n",
        "\n",
        "\n",
        "\n",
        "\n",
        "\n",
        "\n"
      ],
      "metadata": {
        "id": "2MJVvz0SKHd9"
      },
      "execution_count": null,
      "outputs": []
    },
    {
      "cell_type": "markdown",
      "source": [
        "\n",
        "\n",
        "---\n",
        "\n",
        "\n",
        "\n",
        "---\n",
        "\n",
        "\n",
        "\n",
        "---\n",
        "\n"
      ],
      "metadata": {
        "id": "UbVOLZXaB7Y0"
      }
    },
    {
      "cell_type": "markdown",
      "source": [
        "### **Question 11**"
      ],
      "metadata": {
        "id": "tUz2dEwxB7i-"
      }
    },
    {
      "cell_type": "markdown",
      "source": [
        "### How does the average balance of customers change with age? Create a line plot showing the average 'Balance' for each 'Age' group."
      ],
      "metadata": {
        "id": "5Iz3YrJ99b6-"
      }
    },
    {
      "cell_type": "code",
      "source": [
        "\n",
        "\n",
        "\n",
        "\n",
        "\n",
        "\n",
        "\n",
        "\n",
        "\n",
        "\n",
        "\n",
        "\n",
        "\n",
        "\n"
      ],
      "metadata": {
        "id": "bJskakUWKXsA"
      },
      "execution_count": null,
      "outputs": []
    },
    {
      "cell_type": "markdown",
      "source": [
        "\n",
        "\n",
        "---\n",
        "\n",
        "\n",
        "\n",
        "---\n",
        "\n",
        "\n",
        "\n",
        "---\n",
        "\n"
      ],
      "metadata": {
        "id": "iJEeKE5lCAbS"
      }
    },
    {
      "cell_type": "markdown",
      "source": [
        "### **Question 12**"
      ],
      "metadata": {
        "id": "Sd5E5z-FCAo8"
      }
    },
    {
      "cell_type": "markdown",
      "source": [
        "### Using the 'Churn' dataset, create a 2x2 grid of subplots. Each subplot should display one of the following:\n",
        "\n",
        "- 1. A histogram showing the distribution of 'Age'.\n",
        "- 2. A bar plot showing the count of customers in each 'Geography' category.\n",
        "- 3. A scatter plot comparing 'CreditScore' and 'Balance'.\n",
        "- 4. A boxplot showing the distribution of 'EstimatedSalary'."
      ],
      "metadata": {
        "id": "LEwjJwuDAlm6"
      }
    },
    {
      "cell_type": "code",
      "source": [
        "\n",
        "\n",
        "\n",
        "\n",
        "\n",
        "\n",
        "\n",
        "\n",
        "\n",
        "\n",
        "\n",
        "\n",
        "\n",
        "\n",
        "\n",
        "\n",
        "\n",
        "\n"
      ],
      "metadata": {
        "id": "KxTxMUKER0fH"
      },
      "execution_count": null,
      "outputs": []
    }
  ]
}