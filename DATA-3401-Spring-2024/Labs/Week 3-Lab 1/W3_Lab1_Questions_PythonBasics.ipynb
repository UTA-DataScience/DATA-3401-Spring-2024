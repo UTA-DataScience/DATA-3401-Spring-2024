{
  "nbformat": 4,
  "nbformat_minor": 0,
  "metadata": {
    "colab": {
      "provenance": []
    },
    "kernelspec": {
      "name": "python3",
      "display_name": "Python 3"
    },
    "language_info": {
      "name": "python"
    }
  },
  "cells": [
    {
      "cell_type": "markdown",
      "source": [
        "# **Week 3. Lab 1.Basic Python Questions**"
      ],
      "metadata": {
        "id": "dJRqccH38yqj"
      }
    },
    {
      "cell_type": "markdown",
      "source": [
        "**Question 1:** What are the two types of numeric data types in Python? give me example of each example."
      ],
      "metadata": {
        "id": "CJmjQNrk860w"
      }
    },
    {
      "cell_type": "code",
      "execution_count": null,
      "metadata": {
        "id": "I4NYw3qe6lnp"
      },
      "outputs": [],
      "source": [
        "\n",
        "\n",
        "\n",
        "\n",
        "\n",
        "\n",
        "\n",
        "\n",
        "\n"
      ]
    },
    {
      "cell_type": "markdown",
      "source": [
        "**Question 2:** How do you convert the string \"123\" into an integer?"
      ],
      "metadata": {
        "id": "FEzyJah487x8"
      }
    },
    {
      "cell_type": "code",
      "source": [
        "\n",
        "\n",
        "\n",
        "\n",
        "\n",
        "\n",
        "\n",
        "\n",
        "\n"
      ],
      "metadata": {
        "id": "sbS1DmCi87_Z"
      },
      "execution_count": null,
      "outputs": []
    },
    {
      "cell_type": "markdown",
      "source": [
        "**Question 3:** Write a Python expression that adds two integers and then multiplies the result by a float."
      ],
      "metadata": {
        "id": "hn-i5AYP88G6"
      }
    },
    {
      "cell_type": "code",
      "source": [
        "\n",
        "\n",
        "\n",
        "\n",
        "\n",
        "\n",
        "\n",
        "\n"
      ],
      "metadata": {
        "id": "emm9CCuf88T6"
      },
      "execution_count": null,
      "outputs": []
    },
    {
      "cell_type": "markdown",
      "source": [
        "**Question 4:** What is the output of the following code: print(8 / 4)?"
      ],
      "metadata": {
        "id": "DAVlKXha88bK"
      }
    },
    {
      "cell_type": "code",
      "source": [
        "\n",
        "\n",
        "\n",
        "\n",
        "\n",
        "\n",
        "\n",
        "\n"
      ],
      "metadata": {
        "id": "PJgUqajS88i-"
      },
      "execution_count": null,
      "outputs": []
    },
    {
      "cell_type": "markdown",
      "source": [
        "**Question 5:**Given the variables x = 5 and y = 2, write a Python expression that uses PEMDAS rules to calculate (x^2 + y) / (y - x)."
      ],
      "metadata": {
        "id": "9vaweyAe889q"
      }
    },
    {
      "cell_type": "code",
      "source": [
        "\n",
        "\n",
        "\n",
        "\n",
        "\n",
        "\n",
        "\n"
      ],
      "metadata": {
        "id": "v-rSgvou89EL"
      },
      "execution_count": null,
      "outputs": []
    },
    {
      "cell_type": "markdown",
      "source": [
        "**Question 6:**  How do you create a string variable containing the text \"Hello, Python!\"?"
      ],
      "metadata": {
        "id": "xiQk2vWi89Ma"
      }
    },
    {
      "cell_type": "code",
      "source": [
        "\n",
        "\n",
        "\n",
        "\n",
        "\n",
        "\n"
      ],
      "metadata": {
        "id": "Xg8pKYVp89TC"
      },
      "execution_count": null,
      "outputs": []
    },
    {
      "cell_type": "markdown",
      "source": [
        "**Question 7:**Write a Python line of code that asks the user for their name and then prints a greeting including the name."
      ],
      "metadata": {
        "id": "8hueKW7x89oK"
      }
    },
    {
      "cell_type": "code",
      "source": [
        "\n",
        "\n",
        "\n",
        "\n",
        "\n",
        "\n",
        "\n",
        "\n",
        "\n"
      ],
      "metadata": {
        "id": "YdoAzlo589vK"
      },
      "execution_count": null,
      "outputs": []
    },
    {
      "cell_type": "markdown",
      "source": [
        "**Question 8:**What will be the output of the following code snippet: print(10 % 3)?"
      ],
      "metadata": {
        "id": "qFb6oDRD892C"
      }
    },
    {
      "cell_type": "code",
      "source": [
        "\n",
        "\n",
        "\n",
        "\n",
        "\n",
        "\n",
        "\n",
        "\n"
      ],
      "metadata": {
        "id": "DlGqP8ZO898x"
      },
      "execution_count": null,
      "outputs": []
    },
    {
      "cell_type": "markdown",
      "source": [
        "**Question 9:** Create a float number, then convert a float to an integer in Python?"
      ],
      "metadata": {
        "id": "XSZV9r6K8-Ep"
      }
    },
    {
      "cell_type": "code",
      "source": [
        "\n",
        "\n",
        "\n",
        "\n",
        "\n",
        "\n",
        "\n",
        "\n",
        "\n",
        "\n",
        "\n",
        "\n",
        "\n"
      ],
      "metadata": {
        "id": "zfaNoPmI8-LR"
      },
      "execution_count": null,
      "outputs": []
    },
    {
      "cell_type": "markdown",
      "source": [
        "**Question 10:**Write a Python code snippet that calculates the average of three numbers: 4, 5, and 8."
      ],
      "metadata": {
        "id": "VFBBGXLW8-U6"
      }
    },
    {
      "cell_type": "code",
      "source": [
        "\n",
        "\n",
        "\n",
        "\n",
        "\n",
        "\n",
        "\n",
        "\n",
        "\n"
      ],
      "metadata": {
        "id": "2k2qavo18-cJ"
      },
      "execution_count": null,
      "outputs": []
    },
    {
      "cell_type": "markdown",
      "source": [
        "**Question 11:** Explain the difference between the output of print(9 // 2) and print(9 / 2)."
      ],
      "metadata": {
        "id": "y6LO7GBU9rtD"
      }
    },
    {
      "cell_type": "code",
      "source": [
        "\n",
        "\n",
        "\n",
        "\n",
        "\n",
        "\n",
        "\n",
        "\n",
        "\n",
        "\n",
        "\n"
      ],
      "metadata": {
        "id": "TvU7iqem9r46"
      },
      "execution_count": null,
      "outputs": []
    },
    {
      "cell_type": "markdown",
      "source": [
        "**Question 12:** Write a Python script that takes two user inputs: first_name and last_name, then prints them in reverse order with a space between them."
      ],
      "metadata": {
        "id": "XJ49xH609r_y"
      }
    },
    {
      "cell_type": "code",
      "source": [
        "\n",
        "\n",
        "\n",
        "\n",
        "\n",
        "\n",
        "\n",
        "\n",
        "\n",
        "\n",
        "\n"
      ],
      "metadata": {
        "id": "YK-efpi99sKD"
      },
      "execution_count": null,
      "outputs": []
    },
    {
      "cell_type": "markdown",
      "source": [
        "**Question 13:** What is the result of the following expression: (100 - 5 ** 3) / 5?"
      ],
      "metadata": {
        "id": "sYdMMq039sQb"
      }
    },
    {
      "cell_type": "code",
      "source": [
        "\n",
        "\n",
        "\n",
        "\n"
      ],
      "metadata": {
        "id": "RAfbER1y9sXC"
      },
      "execution_count": null,
      "outputs": []
    },
    {
      "cell_type": "markdown",
      "source": [
        "**Question 14:**Calculate the result of the following expression and explain the order of operations: (8 + 2 * 5) / (1 + 3 * 2 - 4)."
      ],
      "metadata": {
        "id": "A3SH1FzK-D-z"
      }
    },
    {
      "cell_type": "code",
      "source": [
        "\n",
        "\n",
        "\n",
        "\n",
        "\n"
      ],
      "metadata": {
        "id": "h-njko9V-EF6"
      },
      "execution_count": null,
      "outputs": []
    },
    {
      "cell_type": "markdown",
      "source": [
        "**Question 15:**String and Arithmetic Operations: Given x = \"100\" and y = \"200\", convert them to integers, add them, then convert the result back to a string."
      ],
      "metadata": {
        "id": "74AE30Cp-EME"
      }
    },
    {
      "cell_type": "code",
      "source": [
        "\n",
        "\n",
        "\n",
        "\n",
        "\n",
        "\n"
      ],
      "metadata": {
        "id": "EWNGnrjE-EVs"
      },
      "execution_count": null,
      "outputs": []
    },
    {
      "cell_type": "markdown",
      "source": [
        "**Question 16:** User Input Conversion: Write a Python script that asks for two numbers from the user, converts them to integers, multiplies them, and prints the result. Comparing Strings and Integers: What will be the result of comparing"
      ],
      "metadata": {
        "id": "s1f4PYsR-Eby"
      }
    },
    {
      "cell_type": "code",
      "source": [
        "\n",
        "\n",
        "\n",
        "\n",
        "\n"
      ],
      "metadata": {
        "id": "C3rmW5Lr-Eiz"
      },
      "execution_count": null,
      "outputs": []
    },
    {
      "cell_type": "markdown",
      "source": [
        "**Question 17:** Given a = 5.7 and b = \"3\", convert b to an integer, add a and b, and round the result to the nearest integer."
      ],
      "metadata": {
        "id": "c69crKjA-XHr"
      }
    },
    {
      "cell_type": "code",
      "source": [
        "\n",
        "\n",
        "\n",
        "\n",
        "\n"
      ],
      "metadata": {
        "id": "hKA7-jqF-XWL"
      },
      "execution_count": null,
      "outputs": []
    },
    {
      "cell_type": "markdown",
      "source": [
        "\n",
        "**Question 18:** Write a Python program that requests the user to input a distance in kilometers and then converts it to miles.\""
      ],
      "metadata": {
        "id": "4kvWui6Q-3MC"
      }
    },
    {
      "cell_type": "code",
      "source": [
        "\n",
        "\n",
        "\n",
        "\n",
        "\n",
        "\n",
        "\n",
        "\n",
        "\n",
        "\n",
        "\n",
        "\n"
      ],
      "metadata": {
        "id": "1zQ_sHnB-3T0"
      },
      "execution_count": null,
      "outputs": []
    },
    {
      "cell_type": "markdown",
      "source": [
        "**Question 19:** Develop a Python script that prompts the user to provide a speed in kilometers per hour and then converts it to meters per second"
      ],
      "metadata": {
        "id": "DrO1-dE1-3qd"
      }
    },
    {
      "cell_type": "code",
      "source": [
        "\n",
        "\n",
        "\n",
        "\n",
        "\n",
        "\n",
        "\n",
        "\n",
        "\n",
        "\n",
        "\n",
        "\n",
        "\n"
      ],
      "metadata": {
        "id": "u9_EKI7x-3xi"
      },
      "execution_count": null,
      "outputs": []
    },
    {
      "cell_type": "markdown",
      "source": [
        "**Question 20:**Create a Python application that asks the user to enter an amount in pounds and then converts it to kilograms."
      ],
      "metadata": {
        "id": "arQOTt7OA05j"
      }
    },
    {
      "cell_type": "code",
      "source": [
        "\n",
        "\n",
        "\n",
        "\n",
        "\n",
        "\n",
        "\n",
        "\n",
        "\n",
        "\n"
      ],
      "metadata": {
        "id": "BocDrMq6A1BT"
      },
      "execution_count": null,
      "outputs": []
    },
    {
      "cell_type": "code",
      "source": [],
      "metadata": {
        "id": "CVPrP-z-pD7q"
      },
      "execution_count": null,
      "outputs": []
    }
  ]
}