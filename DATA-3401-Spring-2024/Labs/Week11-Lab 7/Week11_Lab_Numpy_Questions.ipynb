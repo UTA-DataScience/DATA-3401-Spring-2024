{
  "cells": [
    {
      "cell_type": "markdown",
      "id": "00345375",
      "metadata": {
        "id": "00345375"
      },
      "source": [
        "# **<center>Week 10- Lab : Numpy and Random Variables &ndash; DATA 3401 (Fall 2023)</center>**\n",
        "\n",
        "## Lab Dates: 10/27\n",
        "\n",
        "## Lab Description\n",
        "\n",
        "**The purpose of this lab is for you to**\n",
        "\n",
        "- Numpy\n",
        "- Random Variables"
      ]
    },
    {
      "cell_type": "markdown",
      "id": "03853dc9",
      "metadata": {
        "id": "03853dc9"
      },
      "source": [
        "---"
      ]
    },
    {
      "cell_type": "markdown",
      "id": "116cc985",
      "metadata": {
        "id": "116cc985"
      },
      "source": [
        "## **Question 1:**"
      ]
    },
    {
      "cell_type": "markdown",
      "id": "c527401d",
      "metadata": {
        "id": "c527401d"
      },
      "source": [
        "Write a NumPy code to create an array of integers from 1 to 5."
      ]
    },
    {
      "cell_type": "code",
      "execution_count": null,
      "id": "5e4ec0a1",
      "metadata": {
        "id": "5e4ec0a1"
      },
      "outputs": [],
      "source": [
        "\n",
        "\n",
        "\n",
        "\n",
        "\n",
        "\n",
        "\n",
        "\n",
        "\n",
        "\n"
      ]
    },
    {
      "cell_type": "markdown",
      "id": "87df10b8",
      "metadata": {
        "id": "87df10b8"
      },
      "source": [
        "---"
      ]
    },
    {
      "cell_type": "markdown",
      "id": "2a5558b3",
      "metadata": {
        "id": "2a5558b3"
      },
      "source": [
        "## **Question 2:**"
      ]
    },
    {
      "cell_type": "markdown",
      "id": "92bcc0c3",
      "metadata": {
        "id": "92bcc0c3"
      },
      "source": [
        "Write a NumPy code to create a 2D array with shape (3, 4) containing all zeros."
      ]
    },
    {
      "cell_type": "code",
      "execution_count": null,
      "id": "6610fedf",
      "metadata": {
        "id": "6610fedf"
      },
      "outputs": [],
      "source": [
        "\n",
        "\n",
        "\n",
        "\n",
        "\n",
        "\n",
        "\n",
        "\n",
        "\n"
      ]
    },
    {
      "cell_type": "markdown",
      "id": "fb11bbdd",
      "metadata": {
        "id": "fb11bbdd"
      },
      "source": [
        "\n",
        "\n",
        "---\n",
        "\n",
        "\n",
        "\n",
        "---\n",
        "\n",
        "\n",
        "\n",
        "---\n",
        "\n"
      ]
    },
    {
      "cell_type": "markdown",
      "id": "6908dc14",
      "metadata": {
        "id": "6908dc14"
      },
      "source": [
        "## **Question 3:**"
      ]
    },
    {
      "cell_type": "markdown",
      "id": "ffa74bd7",
      "metadata": {
        "id": "ffa74bd7"
      },
      "source": [
        "\n",
        "Write a NumPy code to create an array of 5 random floating-point numbers between 0 and 1."
      ]
    },
    {
      "cell_type": "code",
      "execution_count": null,
      "id": "2cd6d862",
      "metadata": {
        "id": "2cd6d862"
      },
      "outputs": [],
      "source": [
        "\n",
        "\n",
        "\n",
        "\n",
        "\n",
        "\n",
        "\n",
        "\n",
        "\n",
        "\n",
        "\n"
      ]
    },
    {
      "cell_type": "markdown",
      "source": [
        "\n",
        "\n",
        "---\n",
        "\n",
        "\n",
        "\n",
        "---\n",
        "\n"
      ],
      "metadata": {
        "id": "shuplGR4O0bg"
      },
      "id": "shuplGR4O0bg"
    },
    {
      "cell_type": "markdown",
      "id": "708b68a4",
      "metadata": {
        "id": "708b68a4"
      },
      "source": [
        "## **Question 4:**"
      ]
    },
    {
      "cell_type": "markdown",
      "id": "70f78cba",
      "metadata": {
        "id": "70f78cba"
      },
      "source": [
        "Write a NumPy code to add two arrays `arr1` and `arr2` element-wise."
      ]
    },
    {
      "cell_type": "code",
      "execution_count": null,
      "id": "22f3f3f6",
      "metadata": {
        "id": "22f3f3f6"
      },
      "outputs": [],
      "source": [
        "\n",
        "\n",
        "\n",
        "\n",
        "\n",
        "\n",
        "\n",
        "\n",
        "\n",
        "\n"
      ]
    },
    {
      "cell_type": "markdown",
      "source": [
        "\n",
        "\n",
        "---\n",
        "\n",
        "\n",
        "\n",
        "---\n",
        "\n"
      ],
      "metadata": {
        "id": "rVxWr-5FO3o3"
      },
      "id": "rVxWr-5FO3o3"
    },
    {
      "cell_type": "markdown",
      "id": "9cefae17",
      "metadata": {
        "id": "9cefae17"
      },
      "source": [
        "## **Question 5:**"
      ]
    },
    {
      "cell_type": "markdown",
      "id": "b28f8893",
      "metadata": {
        "id": "b28f8893"
      },
      "source": [
        "Write a NumPy code to calculate the mean of all elements in an array `arr`."
      ]
    },
    {
      "cell_type": "code",
      "execution_count": null,
      "id": "3fd2cc3f",
      "metadata": {
        "id": "3fd2cc3f"
      },
      "outputs": [],
      "source": [
        "\n",
        "\n",
        "\n",
        "\n",
        "\n",
        "\n",
        "\n",
        "\n",
        "\n",
        "\n",
        "\n"
      ]
    },
    {
      "cell_type": "markdown",
      "id": "4611bb0e",
      "metadata": {
        "id": "4611bb0e"
      },
      "source": [
        "## **Question 6:**"
      ]
    },
    {
      "cell_type": "markdown",
      "id": "b8dc4d0d",
      "metadata": {
        "id": "b8dc4d0d"
      },
      "source": [
        "Write a NumPy code to reshape a 1D array `arr` with shape (8,) into a 2D array with shape (2, 4)."
      ]
    },
    {
      "cell_type": "code",
      "execution_count": null,
      "id": "49095c21",
      "metadata": {
        "id": "49095c21"
      },
      "outputs": [],
      "source": [
        "\n",
        "\n",
        "\n",
        "\n",
        "\n",
        "\n",
        "\n",
        "\n",
        "\n",
        "\n",
        "\n"
      ]
    },
    {
      "cell_type": "markdown",
      "source": [
        "\n",
        "\n",
        "---\n",
        "\n",
        "\n",
        "\n",
        "---\n",
        "\n"
      ],
      "metadata": {
        "id": "f8PLBaNxO9fn"
      },
      "id": "f8PLBaNxO9fn"
    },
    {
      "cell_type": "markdown",
      "id": "1cbae98e",
      "metadata": {
        "id": "1cbae98e"
      },
      "source": [
        "## **Question 7:**"
      ]
    },
    {
      "cell_type": "markdown",
      "id": "c83ec9f9",
      "metadata": {
        "id": "c83ec9f9"
      },
      "source": [
        "Write a NumPy code to calculate the dot product of two arrays arr1 and arr2."
      ]
    },
    {
      "cell_type": "code",
      "execution_count": null,
      "id": "a4900f14",
      "metadata": {
        "id": "a4900f14"
      },
      "outputs": [],
      "source": [
        "\n",
        "\n",
        "\n",
        "\n",
        "\n",
        "\n",
        "\n",
        "\n",
        "\n",
        "\n",
        "\n"
      ]
    },
    {
      "cell_type": "markdown",
      "source": [
        "\n",
        "\n",
        "---\n",
        "\n",
        "\n",
        "\n",
        "---\n",
        "\n"
      ],
      "metadata": {
        "id": "oiQAiQwBPAyb"
      },
      "id": "oiQAiQwBPAyb"
    },
    {
      "cell_type": "markdown",
      "id": "d5519b91",
      "metadata": {
        "id": "d5519b91"
      },
      "source": [
        "## **Question 8:**"
      ]
    },
    {
      "cell_type": "markdown",
      "id": "92dfab3c",
      "metadata": {
        "id": "92dfab3c"
      },
      "source": [
        "Write a NumPy code to find the indices of the maximum and minimum values in an array `arr`."
      ]
    },
    {
      "cell_type": "code",
      "execution_count": null,
      "id": "dbbcdb18",
      "metadata": {
        "id": "dbbcdb18"
      },
      "outputs": [],
      "source": [
        "\n",
        "\n",
        "\n",
        "\n",
        "\n",
        "\n",
        "\n",
        "\n",
        "\n",
        "\n"
      ]
    },
    {
      "cell_type": "markdown",
      "source": [
        "\n",
        "\n",
        "---\n",
        "\n",
        "\n",
        "\n",
        "---\n",
        "\n"
      ],
      "metadata": {
        "id": "wyTC1NHQPDAd"
      },
      "id": "wyTC1NHQPDAd"
    },
    {
      "cell_type": "markdown",
      "id": "341b4025",
      "metadata": {
        "id": "341b4025"
      },
      "source": [
        "## **Question 9:**"
      ]
    },
    {
      "cell_type": "markdown",
      "id": "f5cab367",
      "metadata": {
        "id": "f5cab367"
      },
      "source": [
        "Write a NumPy code to calculate the element-wise square root of an array arr."
      ]
    },
    {
      "cell_type": "code",
      "execution_count": null,
      "id": "07af08cb",
      "metadata": {
        "id": "07af08cb"
      },
      "outputs": [],
      "source": [
        "\n",
        "\n",
        "\n",
        "\n",
        "\n",
        "\n",
        "\n",
        "\n",
        "\n",
        "\n",
        "\n"
      ]
    },
    {
      "cell_type": "markdown",
      "source": [
        "\n",
        "\n",
        "---\n",
        "\n",
        "\n",
        "\n",
        "---\n",
        "\n"
      ],
      "metadata": {
        "id": "HQbGAuw8PFeI"
      },
      "id": "HQbGAuw8PFeI"
    },
    {
      "cell_type": "markdown",
      "id": "f1f47f9e",
      "metadata": {
        "id": "f1f47f9e"
      },
      "source": [
        "## **Question 10:**"
      ]
    },
    {
      "cell_type": "markdown",
      "id": "8f236098",
      "metadata": {
        "id": "8f236098"
      },
      "source": [
        "Write a NumPy code to calculate the sum of each column in a 2D array `arr`."
      ]
    },
    {
      "cell_type": "code",
      "execution_count": null,
      "id": "1c198499",
      "metadata": {
        "id": "1c198499"
      },
      "outputs": [],
      "source": [
        "\n",
        "\n",
        "\n",
        "\n",
        "\n",
        "\n",
        "\n",
        "\n",
        "\n",
        "\n"
      ]
    },
    {
      "cell_type": "markdown",
      "source": [
        "\n",
        "\n",
        "---\n",
        "\n",
        "\n",
        "\n",
        "---\n",
        "\n"
      ],
      "metadata": {
        "id": "6JRou4MtPImi"
      },
      "id": "6JRou4MtPImi"
    },
    {
      "cell_type": "markdown",
      "id": "317039a2",
      "metadata": {
        "id": "317039a2"
      },
      "source": [
        "## **Question 11:**"
      ]
    },
    {
      "cell_type": "markdown",
      "id": "f38e501d",
      "metadata": {
        "id": "f38e501d"
      },
      "source": [
        " Write a NumPy code to compute the element-wise multiplication of two\n",
        "arrays `arr1` and `arr2`.\n"
      ]
    },
    {
      "cell_type": "code",
      "execution_count": null,
      "id": "50dfb79e",
      "metadata": {
        "id": "50dfb79e"
      },
      "outputs": [],
      "source": [
        "\n",
        "\n",
        "\n",
        "\n",
        "\n",
        "\n",
        "\n",
        "\n"
      ]
    },
    {
      "cell_type": "markdown",
      "id": "90b3bd0e",
      "metadata": {
        "id": "90b3bd0e"
      },
      "source": [
        "## **Question 12:**"
      ]
    },
    {
      "cell_type": "markdown",
      "id": "b6f168e7",
      "metadata": {
        "id": "b6f168e7"
      },
      "source": [
        "Write a NumPy code to calculate the mean of each row in a 2D array `arr`.\n"
      ]
    },
    {
      "cell_type": "code",
      "execution_count": null,
      "id": "228a3b34",
      "metadata": {
        "id": "228a3b34"
      },
      "outputs": [],
      "source": [
        "\n",
        "\n",
        "\n",
        "\n",
        "\n",
        "\n",
        "\n",
        "\n",
        "\n",
        "\n",
        "\n"
      ]
    },
    {
      "cell_type": "markdown",
      "source": [
        "\n",
        "\n",
        "---\n",
        "\n",
        "\n",
        "\n",
        "---\n",
        "\n"
      ],
      "metadata": {
        "id": "k6Q6uh3-Fcwf"
      },
      "id": "k6Q6uh3-Fcwf"
    },
    {
      "cell_type": "markdown",
      "source": [
        "## **Question 13:**"
      ],
      "metadata": {
        "id": "2_5aScKkFc4i"
      },
      "id": "2_5aScKkFc4i"
    },
    {
      "cell_type": "markdown",
      "source": [
        "Write a NumPy code to sort the elements in an array `arr` in descending order."
      ],
      "metadata": {
        "id": "FpXlLhOpFgyt"
      },
      "id": "FpXlLhOpFgyt"
    },
    {
      "cell_type": "code",
      "execution_count": null,
      "id": "cd9b7461",
      "metadata": {
        "id": "cd9b7461"
      },
      "outputs": [],
      "source": [
        "\n",
        "\n",
        "\n",
        "\n",
        "\n",
        "\n",
        "\n",
        "\n",
        "\n",
        "\n",
        "\n",
        "\n"
      ]
    },
    {
      "cell_type": "markdown",
      "source": [
        "\n",
        "\n",
        "---\n",
        "\n",
        "\n",
        "\n",
        "---\n",
        "\n"
      ],
      "metadata": {
        "id": "BmEktjsUFyU6"
      },
      "id": "BmEktjsUFyU6"
    },
    {
      "cell_type": "markdown",
      "source": [
        "## **Question 14:**"
      ],
      "metadata": {
        "id": "qG1IDTsAFyde"
      },
      "id": "qG1IDTsAFyde"
    },
    {
      "cell_type": "markdown",
      "source": [
        "Write a NumPy code to calculate the matrix multiplication of  two 2D arrays `arr1` and `arr2`."
      ],
      "metadata": {
        "id": "vKJeH9oDFy2P"
      },
      "id": "vKJeH9oDFy2P"
    },
    {
      "cell_type": "code",
      "source": [
        "\n",
        "\n",
        "\n",
        "\n",
        "\n",
        "\n",
        "\n",
        "\n",
        "\n",
        "\n",
        "\n",
        "\n",
        "\n",
        "\n"
      ],
      "metadata": {
        "id": "mMQxG7_8Fpmj"
      },
      "id": "mMQxG7_8Fpmj",
      "execution_count": null,
      "outputs": []
    },
    {
      "cell_type": "markdown",
      "source": [
        "\n",
        "\n",
        "---\n",
        "\n",
        "\n",
        "\n",
        "---\n",
        "\n",
        "\n"
      ],
      "metadata": {
        "id": "IH-Vz5EwGCuL"
      },
      "id": "IH-Vz5EwGCuL"
    },
    {
      "cell_type": "markdown",
      "source": [
        "## **Question 15:**"
      ],
      "metadata": {
        "id": "UouPP4yYGC3q"
      },
      "id": "UouPP4yYGC3q"
    },
    {
      "cell_type": "markdown",
      "source": [
        "Write a NumPy code to find the unique values and their counts in an array `arr`."
      ],
      "metadata": {
        "id": "6lYQUTNDGDCB"
      },
      "id": "6lYQUTNDGDCB"
    },
    {
      "cell_type": "code",
      "source": [
        "\n",
        "\n",
        "\n",
        "\n",
        "\n",
        "\n",
        "\n",
        "\n",
        "\n",
        "\n",
        "\n",
        "\n",
        "\n"
      ],
      "metadata": {
        "id": "kJLJHKLXF7Hd"
      },
      "id": "kJLJHKLXF7Hd",
      "execution_count": null,
      "outputs": []
    },
    {
      "cell_type": "markdown",
      "source": [
        "\n",
        "\n",
        "---\n",
        "\n",
        "\n",
        "\n",
        "---\n",
        "\n"
      ],
      "metadata": {
        "id": "-FZwwYEI7w1x"
      },
      "id": "-FZwwYEI7w1x"
    },
    {
      "cell_type": "markdown",
      "source": [
        "## **Question 16:**"
      ],
      "metadata": {
        "id": "hRP3TKrm7w5q"
      },
      "id": "hRP3TKrm7w5q"
    },
    {
      "cell_type": "markdown",
      "source": [
        "Write a NumPy code to perform element-wise comparison between two arrays\n",
        "`arr1` and `arr2` and return a new array with True for elements that are greater\n",
        "in `arr1` and False otherwise."
      ],
      "metadata": {
        "id": "21ebZZlL7yUn"
      },
      "id": "21ebZZlL7yUn"
    },
    {
      "cell_type": "code",
      "source": [
        "\n",
        "\n",
        "\n",
        "\n",
        "\n",
        "\n",
        "\n",
        "\n",
        "\n",
        "\n",
        "\n",
        "\n",
        "\n",
        "\n",
        "\n"
      ],
      "metadata": {
        "id": "vaSrkRPA72P5"
      },
      "id": "vaSrkRPA72P5",
      "execution_count": null,
      "outputs": []
    },
    {
      "cell_type": "markdown",
      "source": [
        "\n",
        "\n",
        "---\n",
        "\n",
        "\n",
        "\n",
        "---\n",
        "\n",
        "\n",
        "\n",
        "\n",
        "\n"
      ],
      "metadata": {
        "id": "DS-ITG9BMJ1g"
      },
      "id": "DS-ITG9BMJ1g"
    },
    {
      "cell_type": "markdown",
      "source": [
        "## **Question 17:**"
      ],
      "metadata": {
        "id": "3S2rUNlfMJ4G"
      },
      "id": "3S2rUNlfMJ4G"
    },
    {
      "cell_type": "markdown",
      "source": [
        "Write a Python program using NumPy to solve the following system of linear equations:"
      ],
      "metadata": {
        "id": "e7YmOSjOMQGj"
      },
      "id": "e7YmOSjOMQGj"
    },
    {
      "cell_type": "code",
      "source": [
        "2x + 3y = 12\n",
        "4x - 2y = 6\n"
      ],
      "metadata": {
        "id": "zaWDKb6Y8Ann"
      },
      "id": "zaWDKb6Y8Ann",
      "execution_count": null,
      "outputs": []
    },
    {
      "cell_type": "code",
      "source": [
        "\n",
        "\n",
        "\n",
        "\n",
        "\n",
        "\n",
        "\n",
        "\n",
        "\n",
        "\n",
        "\n",
        "\n",
        "\n"
      ],
      "metadata": {
        "id": "LD2QapfKMc8v"
      },
      "id": "LD2QapfKMc8v",
      "execution_count": null,
      "outputs": []
    },
    {
      "cell_type": "markdown",
      "source": [
        "\n",
        "\n",
        "---\n",
        "\n",
        "\n",
        "\n",
        "---\n",
        "\n",
        "\n"
      ],
      "metadata": {
        "id": "Mtv-w4JSMhfl"
      },
      "id": "Mtv-w4JSMhfl"
    }
  ],
  "metadata": {
    "kernelspec": {
      "display_name": "Python 3 (ipykernel)",
      "language": "python",
      "name": "python3"
    },
    "language_info": {
      "codemirror_mode": {
        "name": "ipython",
        "version": 3
      },
      "file_extension": ".py",
      "mimetype": "text/x-python",
      "name": "python",
      "nbconvert_exporter": "python",
      "pygments_lexer": "ipython3",
      "version": "3.9.13"
    },
    "colab": {
      "provenance": []
    }
  },
  "nbformat": 4,
  "nbformat_minor": 5
}