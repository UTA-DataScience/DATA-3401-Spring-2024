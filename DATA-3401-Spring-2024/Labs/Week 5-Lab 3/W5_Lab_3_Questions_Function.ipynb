{
  "cells": [
    {
      "cell_type": "markdown",
      "id": "ef5f3a05",
      "metadata": {
        "id": "ef5f3a05"
      },
      "source": [
        "# **<center>Week5-Lab (Questions) &ndash; DATA 3401 (Fall 2023)</center>**\n",
        "\n",
        "\n",
        "### **Lab Description**\n",
        "The purpose of this lab is for you to\n",
        "\n",
        "- Function\n",
        "- Passing Information to a Function\n",
        "- Using a Function with Conditional Statement\n",
        "- Using a Function with while and for Loop\n"
      ]
    },
    {
      "cell_type": "markdown",
      "id": "4075da1f",
      "metadata": {
        "id": "4075da1f"
      },
      "source": [
        "---"
      ]
    },
    {
      "cell_type": "markdown",
      "id": "2c18b45a",
      "metadata": {
        "id": "2c18b45a"
      },
      "source": [
        "### **Question 1**"
      ]
    },
    {
      "cell_type": "markdown",
      "id": "767db720",
      "metadata": {
        "id": "767db720"
      },
      "source": [
        "\n",
        "Write a function named square that takes a number as input and returns the square of that number."
      ]
    },
    {
      "cell_type": "code",
      "execution_count": null,
      "id": "addc92fd",
      "metadata": {
        "id": "addc92fd"
      },
      "outputs": [],
      "source": [
        "\n",
        "\n",
        "\n",
        "\n",
        "\n",
        "\n",
        "\n",
        "\n"
      ]
    },
    {
      "cell_type": "markdown",
      "id": "05c3ecb1",
      "metadata": {
        "id": "05c3ecb1"
      },
      "source": [
        "----"
      ]
    },
    {
      "cell_type": "markdown",
      "id": "86234265",
      "metadata": {
        "id": "86234265"
      },
      "source": [
        "### **Question 2:**"
      ]
    },
    {
      "cell_type": "markdown",
      "id": "085e31cf",
      "metadata": {
        "id": "085e31cf"
      },
      "source": [
        "\n",
        "Write a function named calculate_average that takes a list of numbers as input and returns the average of those numbers."
      ]
    },
    {
      "cell_type": "code",
      "execution_count": null,
      "id": "f987adcb",
      "metadata": {
        "id": "f987adcb"
      },
      "outputs": [],
      "source": [
        "\n",
        "\n",
        "\n",
        "\n",
        "\n",
        "\n",
        "\n"
      ]
    },
    {
      "cell_type": "markdown",
      "id": "4f1e47dd",
      "metadata": {
        "id": "4f1e47dd"
      },
      "source": [
        "----"
      ]
    },
    {
      "cell_type": "markdown",
      "id": "6c70899c",
      "metadata": {
        "id": "6c70899c"
      },
      "source": [
        "### **Question 3**"
      ]
    },
    {
      "cell_type": "markdown",
      "id": "94beca93",
      "metadata": {
        "id": "94beca93"
      },
      "source": [
        "Write a function named is_even that takes an integer as input and returns True if the number is even, and False otherwise."
      ]
    },
    {
      "cell_type": "code",
      "execution_count": null,
      "id": "0f91c837",
      "metadata": {
        "id": "0f91c837"
      },
      "outputs": [],
      "source": [
        "\n",
        "\n",
        "\n",
        "\n",
        "\n",
        "\n",
        "\n"
      ]
    },
    {
      "cell_type": "markdown",
      "id": "fa4d6331",
      "metadata": {
        "id": "fa4d6331"
      },
      "source": [
        "---"
      ]
    },
    {
      "cell_type": "markdown",
      "id": "d89de085",
      "metadata": {
        "id": "d89de085"
      },
      "source": [
        "### **Question 4**"
      ]
    },
    {
      "cell_type": "markdown",
      "id": "7e3f1a50",
      "metadata": {
        "id": "7e3f1a50"
      },
      "source": [
        "\n",
        "Write a function named count_vowels that takes a string as input and returns the count of vowels (a, e, i, o, u) in the string.\n"
      ]
    },
    {
      "cell_type": "code",
      "execution_count": null,
      "id": "f6f7c7b5",
      "metadata": {
        "id": "f6f7c7b5"
      },
      "outputs": [],
      "source": [
        "\n",
        "\n",
        "\n",
        "\n",
        "\n",
        "\n",
        "\n",
        "\n",
        "\n"
      ]
    },
    {
      "cell_type": "markdown",
      "id": "94c4aa8c",
      "metadata": {
        "id": "94c4aa8c"
      },
      "source": [
        "---"
      ]
    },
    {
      "cell_type": "markdown",
      "id": "8e2ffd3d",
      "metadata": {
        "id": "8e2ffd3d"
      },
      "source": [
        "### **Question 5**"
      ]
    },
    {
      "cell_type": "markdown",
      "id": "1feb292b",
      "metadata": {
        "id": "1feb292b"
      },
      "source": [
        "Write a function named find_max that takes a list of numbers as input and returns the maximum value in the list.\n"
      ]
    },
    {
      "cell_type": "code",
      "execution_count": null,
      "id": "b1cc94fd",
      "metadata": {
        "id": "b1cc94fd"
      },
      "outputs": [],
      "source": [
        "\n",
        "\n",
        "\n",
        "\n",
        "\n",
        "\n",
        "\n",
        "\n",
        "\n"
      ]
    },
    {
      "cell_type": "markdown",
      "id": "b7e177e9",
      "metadata": {
        "id": "b7e177e9"
      },
      "source": [
        "---"
      ]
    },
    {
      "cell_type": "markdown",
      "id": "3bf4fd2e",
      "metadata": {
        "id": "3bf4fd2e"
      },
      "source": [
        "### **Question 6**"
      ]
    },
    {
      "cell_type": "markdown",
      "id": "f72a3f5e",
      "metadata": {
        "id": "f72a3f5e"
      },
      "source": [
        "Write a function named power that takes two numbers, base and exponent, as input and returns the result of raising base to the power of exponent."
      ]
    },
    {
      "cell_type": "code",
      "execution_count": null,
      "id": "a78f284a",
      "metadata": {
        "id": "a78f284a"
      },
      "outputs": [],
      "source": [
        "\n",
        "\n",
        "\n",
        "\n",
        "\n",
        "\n",
        "\n",
        "\n",
        "\n",
        "\n"
      ]
    },
    {
      "cell_type": "markdown",
      "id": "a77a95df",
      "metadata": {
        "id": "a77a95df"
      },
      "source": [
        "---"
      ]
    },
    {
      "cell_type": "markdown",
      "id": "70959317",
      "metadata": {
        "id": "70959317"
      },
      "source": [
        "### **Question 7**"
      ]
    },
    {
      "cell_type": "markdown",
      "id": "1d874d4e",
      "metadata": {
        "id": "1d874d4e"
      },
      "source": [
        "Write a function called `add_numbers` that takes two parameters `a` and `b` and returns their sum."
      ]
    },
    {
      "cell_type": "code",
      "execution_count": null,
      "id": "d3cf3c86",
      "metadata": {
        "id": "d3cf3c86"
      },
      "outputs": [],
      "source": [
        "\n",
        "\n",
        "\n",
        "\n",
        "\n",
        "\n",
        "\n",
        "\n",
        "\n",
        "\n",
        "\n"
      ]
    },
    {
      "cell_type": "markdown",
      "id": "e5bad2c9",
      "metadata": {
        "id": "e5bad2c9"
      },
      "source": [
        "---"
      ]
    },
    {
      "cell_type": "markdown",
      "id": "a9432bd7",
      "metadata": {
        "id": "a9432bd7"
      },
      "source": [
        "### **Question 8**"
      ]
    },
    {
      "cell_type": "markdown",
      "id": "9c499eea",
      "metadata": {
        "id": "9c499eea"
      },
      "source": [
        "Write a function called `calculate_average` that takes a list of numbers as a parameter and returns the average of those numbers."
      ]
    },
    {
      "cell_type": "code",
      "execution_count": null,
      "id": "0aa80eee",
      "metadata": {
        "id": "0aa80eee"
      },
      "outputs": [],
      "source": [
        "\n",
        "\n",
        "\n",
        "\n",
        "\n",
        "\n",
        "\n",
        "\n",
        "\n",
        "\n",
        "\n",
        "\n",
        "\n",
        "\n"
      ]
    },
    {
      "cell_type": "markdown",
      "id": "aa191fe8",
      "metadata": {
        "id": "aa191fe8"
      },
      "source": [
        "----"
      ]
    },
    {
      "cell_type": "markdown",
      "id": "6e603d29",
      "metadata": {
        "id": "6e603d29"
      },
      "source": [
        "### **Question 9**"
      ]
    },
    {
      "cell_type": "markdown",
      "id": "1fc10163",
      "metadata": {
        "id": "1fc10163"
      },
      "source": [
        "Write a function called `calculate_area` that takes the radius of a circle as a parameter and returns the area of the circle. Assume that the value of pi is 3.14."
      ]
    },
    {
      "cell_type": "code",
      "execution_count": null,
      "id": "a9f993c6",
      "metadata": {
        "id": "a9f993c6"
      },
      "outputs": [],
      "source": [
        "\n",
        "\n",
        "\n",
        "\n",
        "\n",
        "\n",
        "\n",
        "\n",
        "\n",
        "\n"
      ]
    },
    {
      "cell_type": "markdown",
      "id": "072c4468",
      "metadata": {
        "id": "072c4468"
      },
      "source": [
        "---"
      ]
    },
    {
      "cell_type": "markdown",
      "id": "9df11201",
      "metadata": {
        "id": "9df11201"
      },
      "source": [
        "### **Question 10**"
      ]
    },
    {
      "cell_type": "markdown",
      "id": "ec9f2846",
      "metadata": {
        "id": "ec9f2846"
      },
      "source": [
        "You've been hired as a software developer for \"MusicFest,\" a company that organizes music concerts. They want a system where they can plan concerts and list the details. You need to create a Python function named organize_concert that captures and displays the concert details.\n",
        "\n",
        "\n",
        "**The function should:**\n",
        "\n",
        "1. Accept a mandatory positional argument date which specifies the date of the concert.\n",
        "2. Accept an arbitrary number of artists/bands that will perform at the concert.\n",
        "3. Accept keyword arguments for other details of the concert such as genre, duration, and venue.\n",
        "4. Print the concert details in a structured format.\n",
        "\n",
        "\n",
        "For instance, if the function is called with the arguments `15th October`, `Coldplay`, `Ed Sheeran`, genre=`Rock/Pop`, duration=5, and venue=\"Stadium\", it should print:"
      ]
    },
    {
      "cell_type": "code",
      "source": [
        "Organizing a Rock/Pop concert on 15th October for 5 hours.\n",
        "Venue: Stadium\n",
        "Artists include:\n",
        "- Coldplay\n",
        "- Ed Sheeran"
      ],
      "metadata": {
        "id": "50YZtWUjWXtu"
      },
      "id": "50YZtWUjWXtu",
      "execution_count": null,
      "outputs": []
    },
    {
      "cell_type": "markdown",
      "source": [
        "**Write the organize_concert function based on the given requirements.**"
      ],
      "metadata": {
        "id": "QFtWBUJ5WdHA"
      },
      "id": "QFtWBUJ5WdHA"
    },
    {
      "cell_type": "code",
      "execution_count": null,
      "id": "e10617de",
      "metadata": {
        "id": "e10617de"
      },
      "outputs": [],
      "source": [
        "\n",
        "\n",
        "\n",
        "\n",
        "\n",
        "\n",
        "\n",
        "\n",
        "\n",
        "\n",
        "\n",
        "\n",
        "\n"
      ]
    },
    {
      "cell_type": "markdown",
      "source": [
        "\n",
        "\n",
        "---\n",
        "\n",
        "\n"
      ],
      "metadata": {
        "id": "FkCcMFtzORwy"
      },
      "id": "FkCcMFtzORwy"
    },
    {
      "cell_type": "markdown",
      "source": [
        "### **Question 11**"
      ],
      "metadata": {
        "id": "1l6kNdh2MntX"
      },
      "id": "1l6kNdh2MntX"
    },
    {
      "cell_type": "markdown",
      "source": [
        "You are working on an application for a movie theater. The application needs a feature where users can specify preferences for their movie experience.\n",
        "\n",
        "**Write a Python function named movie_preferences that:**\n",
        "\n",
        "- Accepts an arbitrary number of keyword arguments.\n",
        "- Processes these keyword arguments to set preferences for the movie-goer.\n",
        "- Returns a dictionary with the preferences.\n",
        "\n",
        "For example, if the function is called with the arguments seat=\"Front Row\", snack=\"Popcorn\", and drink=\"Soda\", the function should return the dictionary:"
      ],
      "metadata": {
        "id": "FNtUDWdwLqiJ"
      },
      "id": "FNtUDWdwLqiJ"
    },
    {
      "cell_type": "code",
      "source": [
        "{\n",
        "    'seat': 'Front Row',\n",
        "    'snack': 'Popcorn',\n",
        "    'drink': 'Soda'\n",
        "}"
      ],
      "metadata": {
        "id": "ghXwPj5_MAfd"
      },
      "id": "ghXwPj5_MAfd",
      "execution_count": null,
      "outputs": []
    },
    {
      "cell_type": "markdown",
      "source": [
        "**Write your solution for the movie_preferences function.**"
      ],
      "metadata": {
        "id": "S3pmEAupMDT5"
      },
      "id": "S3pmEAupMDT5"
    },
    {
      "cell_type": "code",
      "source": [
        "\n",
        "\n",
        "\n",
        "\n",
        "\n",
        "\n",
        "\n",
        "\n",
        "\n"
      ],
      "metadata": {
        "id": "CWm_3iG8MAlc"
      },
      "id": "CWm_3iG8MAlc",
      "execution_count": null,
      "outputs": []
    },
    {
      "cell_type": "markdown",
      "source": [
        "\n",
        "\n",
        "---\n",
        "\n",
        "\n"
      ],
      "metadata": {
        "id": "XAQVCKDGOuAL"
      },
      "id": "XAQVCKDGOuAL"
    },
    {
      "cell_type": "markdown",
      "source": [
        "### **Question 12**"
      ],
      "metadata": {
        "id": "stXBOPiDBYvj"
      },
      "id": "stXBOPiDBYvj"
    },
    {
      "cell_type": "markdown",
      "source": [
        "You've been hired by a company called \"Fruitful Endeavors\" to write a function for their new \"Talkative Fruit Scale\" product. This scale not only weighs fruits but also comments on them!\n",
        "\n",
        "- **Write a Python function named talkative_fruit_scale that:**\n",
        "\n",
        "1. Accepts two arguments: the fruit_name and its weight in grams.\n",
        "2. Returns a string that comments humorously on the fruit based on its weight.\n",
        "\n",
        "\n",
        "**Here are the weight guidelines:**\n",
        "\n",
        "- Less than 100 grams: \"That's a lightweight [fruit_name]!\"\n",
        "- 100 to 300 grams: \"That's a decently-sized [fruit_name]!\"\n",
        "- More than 300 grams: \"Whoa! That's a [fruit_name] heavyweight champion!\"\n",
        "\n"
      ],
      "metadata": {
        "id": "AtThLGZzBY4s"
      },
      "id": "AtThLGZzBY4s"
    },
    {
      "cell_type": "markdown",
      "source": [
        "\n",
        "For instance, if the function is called with \"apple\" and a weight of 50, it should return: \"That's a lightweight apple!\"\n",
        "\n"
      ],
      "metadata": {
        "id": "Wt8aP9viK5ny"
      },
      "id": "Wt8aP9viK5ny"
    },
    {
      "cell_type": "code",
      "source": [
        "\n",
        "\n",
        "\n",
        "\n",
        "\n",
        "\n",
        "\n",
        "\n",
        "\n",
        "\n",
        "\n",
        "\n",
        "\n"
      ],
      "metadata": {
        "id": "Aw7FBPqvBPEP"
      },
      "id": "Aw7FBPqvBPEP",
      "execution_count": null,
      "outputs": []
    },
    {
      "cell_type": "markdown",
      "source": [
        "\n",
        "\n",
        "---\n",
        "\n",
        "\n"
      ],
      "metadata": {
        "id": "uZuRmmuNOv0v"
      },
      "id": "uZuRmmuNOv0v"
    },
    {
      "cell_type": "markdown",
      "source": [
        "### **Question 13**"
      ],
      "metadata": {
        "id": "FlpqxBl4M5s5"
      },
      "id": "FlpqxBl4M5s5"
    },
    {
      "cell_type": "markdown",
      "source": [
        "You're working for a company called **Magic Weather Ball**. This ball doesn't just predict the weather; it gives quirky advice based on the forecast!\n",
        "\n",
        "**Write a Python function named weather_advice that:**\n",
        "\n",
        "1. Accepts one argument: forecast, which can be \"sunny\", \"rainy\", or \"cloudy\".\n",
        "2. Returns a humorous piece of advice based on the forecast.\n",
        "Guidelines:\n",
        "\n",
        "- \"sunny\": \"Wear sunglasses, and maybe some sunscreen. Remember, you're not a tomato!\"\n",
        "- \"rainy\": \"Take an umbrella, or you'll be singing in the rain... without the singing!\"\n",
        "- \"cloudy\": \"It might rain, or it might not. Life's full of surprises, isn't it?\n"
      ],
      "metadata": {
        "id": "OqXKcE_6LByL"
      },
      "id": "OqXKcE_6LByL"
    },
    {
      "cell_type": "code",
      "source": [
        "\n",
        "\n",
        "\n",
        "\n",
        "\n",
        "\n",
        "\n",
        "\n",
        "\n",
        "\n",
        "\n"
      ],
      "metadata": {
        "id": "7JS8NghpK8qL"
      },
      "id": "7JS8NghpK8qL",
      "execution_count": null,
      "outputs": []
    },
    {
      "cell_type": "markdown",
      "source": [
        "### **Question 14**"
      ],
      "metadata": {
        "id": "UPAhX_YehdhE"
      },
      "id": "UPAhX_YehdhE"
    },
    {
      "cell_type": "markdown",
      "source": [
        "Write a Python function, **HoursMinutes_to_Seconds**, that converts given hours  and minutes into total seconds"
      ],
      "metadata": {
        "id": "893fwGinhoZo"
      },
      "id": "893fwGinhoZo"
    },
    {
      "cell_type": "code",
      "source": [
        "\n",
        "\n",
        "\n",
        "\n",
        "\n",
        "\n",
        "\n",
        "\n",
        "\n",
        "\n",
        "\n",
        "\n"
      ],
      "metadata": {
        "id": "JWjndXjELGvr"
      },
      "id": "JWjndXjELGvr",
      "execution_count": null,
      "outputs": []
    }
  ],
  "metadata": {
    "kernelspec": {
      "display_name": "Python 3 (ipykernel)",
      "language": "python",
      "name": "python3"
    },
    "language_info": {
      "codemirror_mode": {
        "name": "ipython",
        "version": 3
      },
      "file_extension": ".py",
      "mimetype": "text/x-python",
      "name": "python",
      "nbconvert_exporter": "python",
      "pygments_lexer": "ipython3",
      "version": "3.9.13"
    },
    "colab": {
      "provenance": []
    }
  },
  "nbformat": 4,
  "nbformat_minor": 5
}