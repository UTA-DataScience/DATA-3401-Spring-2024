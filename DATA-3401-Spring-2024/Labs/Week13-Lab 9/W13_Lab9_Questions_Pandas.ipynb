{
  "nbformat": 4,
  "nbformat_minor": 0,
  "metadata": {
    "colab": {
      "provenance": []
    },
    "kernelspec": {
      "name": "python3",
      "display_name": "Python 3"
    },
    "language_info": {
      "name": "python"
    }
  },
  "cells": [
    {
      "cell_type": "markdown",
      "source": [
        "# **Week 13. Lab 9- Advance Pandas**\n",
        "\n",
        "---\n",
        "\n",
        "\n",
        "\n",
        "---\n",
        "\n"
      ],
      "metadata": {
        "id": "xPLs8a_KzGcw"
      }
    },
    {
      "cell_type": "markdown",
      "source": [
        "\n",
        "\n",
        "---\n",
        "\n",
        "\n",
        "\n",
        "---\n",
        "\n"
      ],
      "metadata": {
        "id": "OdDilNTmzRWH"
      }
    },
    {
      "cell_type": "markdown",
      "source": [
        "## **Question 1**"
      ],
      "metadata": {
        "id": "EVeznKBAF_L7"
      }
    },
    {
      "cell_type": "markdown",
      "source": [
        "**Load the Movies dataset into a pandas DataFrame and print the head of the dataset.**"
      ],
      "metadata": {
        "id": "BUaogXOJPeJi"
      }
    },
    {
      "cell_type": "code",
      "source": [
        "\n",
        "\n",
        "\n",
        "\n",
        "\n",
        "\n",
        "\n",
        "\n",
        "\n"
      ],
      "metadata": {
        "id": "CaraoZbfPgBZ"
      },
      "execution_count": null,
      "outputs": []
    },
    {
      "cell_type": "markdown",
      "source": [
        "\n",
        "\n",
        "---\n",
        "\n",
        "\n",
        "\n",
        "---\n",
        "\n",
        "\n",
        "\n",
        "---\n",
        "\n"
      ],
      "metadata": {
        "id": "klNjr7dQGFua"
      }
    },
    {
      "cell_type": "markdown",
      "source": [
        "## **Question 2**"
      ],
      "metadata": {
        "id": "vqugpkAzGIUa"
      }
    },
    {
      "cell_type": "markdown",
      "source": [
        "**Find the number of rows and columns in the dataset.**"
      ],
      "metadata": {
        "id": "uvG3xszsPodK"
      }
    },
    {
      "cell_type": "code",
      "source": [
        "\n",
        "\n",
        "\n",
        "\n",
        "\n",
        "\n",
        "\n",
        "\n"
      ],
      "metadata": {
        "id": "kNHxQ_hWPrfw"
      },
      "execution_count": null,
      "outputs": []
    },
    {
      "cell_type": "markdown",
      "source": [
        "\n",
        "\n",
        "---\n",
        "\n",
        "\n",
        "\n",
        "---\n",
        "\n",
        "\n",
        "\n",
        "---\n",
        "\n"
      ],
      "metadata": {
        "id": "1N4lAW8eGNIs"
      }
    },
    {
      "cell_type": "markdown",
      "source": [
        "## **Question 3**"
      ],
      "metadata": {
        "id": "zmuWzXqKGPZm"
      }
    },
    {
      "cell_type": "markdown",
      "source": [
        "**Check for missing values in each column.**"
      ],
      "metadata": {
        "id": "2uNWUvibPrp8"
      }
    },
    {
      "cell_type": "code",
      "source": [
        "\n",
        "\n",
        "\n",
        "\n",
        "\n",
        "\n",
        "\n",
        "\n",
        "\n"
      ],
      "metadata": {
        "id": "_XQ3RM-VPunR"
      },
      "execution_count": null,
      "outputs": []
    },
    {
      "cell_type": "markdown",
      "source": [
        "\n",
        "\n",
        "---\n",
        "\n",
        "\n",
        "\n",
        "---\n",
        "\n",
        "\n",
        "\n",
        "---\n",
        "\n",
        "\n",
        "\n",
        "---\n",
        "\n"
      ],
      "metadata": {
        "id": "94Wtvc3PGaqa"
      }
    },
    {
      "cell_type": "markdown",
      "source": [
        "## **Question 4**"
      ],
      "metadata": {
        "id": "W2IPL1IxGc-L"
      }
    },
    {
      "cell_type": "markdown",
      "source": [
        "**Display basic statistics for the 'Rotten Tomatoes Ratings' and 'Budget' columns.**"
      ],
      "metadata": {
        "id": "-1Ob_9WqPu1k"
      }
    },
    {
      "cell_type": "code",
      "source": [
        "\n",
        "\n",
        "\n",
        "\n",
        "\n",
        "\n",
        "\n",
        "\n"
      ],
      "metadata": {
        "id": "RrBrNbUVPyF3"
      },
      "execution_count": null,
      "outputs": []
    },
    {
      "cell_type": "markdown",
      "source": [
        "\n",
        "\n",
        "---\n",
        "\n",
        "\n",
        "\n",
        "---\n",
        "\n",
        "\n",
        "\n",
        "---\n",
        "\n"
      ],
      "metadata": {
        "id": "TnF1yoKDGhhB"
      }
    },
    {
      "cell_type": "markdown",
      "source": [
        "## **Question 5**"
      ],
      "metadata": {
        "id": "wqwqU9SDGjO-"
      }
    },
    {
      "cell_type": "markdown",
      "source": [
        "**Create a new DataFrame containing only the films released after the year 2000.**"
      ],
      "metadata": {
        "id": "QM2JUpnZPyhr"
      }
    },
    {
      "cell_type": "code",
      "source": [
        "\n",
        "\n",
        "\n",
        "\n",
        "\n",
        "\n",
        "\n",
        "\n",
        "\n",
        "\n"
      ],
      "metadata": {
        "id": "Pp3ClyUuP2bl"
      },
      "execution_count": null,
      "outputs": []
    },
    {
      "cell_type": "markdown",
      "source": [
        "\n",
        "\n",
        "---\n",
        "\n",
        "\n",
        "\n",
        "---\n",
        "\n",
        "\n",
        "\n",
        "---\n",
        "\n"
      ],
      "metadata": {
        "id": "klwyrwjKGnrk"
      }
    },
    {
      "cell_type": "markdown",
      "source": [
        "## **Question 6**"
      ],
      "metadata": {
        "id": "_uHnWlcVGrsp"
      }
    },
    {
      "cell_type": "markdown",
      "source": [
        "**Filter the dataset to include only films with a budget greater than $50 million**"
      ],
      "metadata": {
        "id": "nNluSJXMP2oU"
      }
    },
    {
      "cell_type": "code",
      "source": [
        "\n",
        "\n",
        "\n",
        "\n",
        "\n",
        "\n",
        "\n",
        "\n",
        "\n"
      ],
      "metadata": {
        "id": "qDjRp2n2QFoR"
      },
      "execution_count": null,
      "outputs": []
    },
    {
      "cell_type": "markdown",
      "source": [
        "\n",
        "\n",
        "---\n",
        "\n",
        "\n",
        "\n",
        "---\n",
        "\n",
        "\n",
        "\n",
        "---\n",
        "\n"
      ],
      "metadata": {
        "id": "z82CnG3HIuCN"
      }
    },
    {
      "cell_type": "markdown",
      "source": [
        "## **Question 7**"
      ],
      "metadata": {
        "id": "ZuJTaSu0Gu6g"
      }
    },
    {
      "cell_type": "markdown",
      "source": [
        "**Sort the dataset by 'Rotten Tomatoes Ratings %' in descending order.**"
      ],
      "metadata": {
        "id": "jrimPfyYQGSM"
      }
    },
    {
      "cell_type": "code",
      "source": [
        "\n",
        "\n",
        "\n",
        "\n",
        "\n",
        "\n",
        "\n",
        "\n",
        "\n",
        "\n",
        "\n",
        "\n"
      ],
      "metadata": {
        "id": "KNcbdu09QKtr"
      },
      "execution_count": null,
      "outputs": []
    },
    {
      "cell_type": "markdown",
      "source": [
        "\n",
        "\n",
        "---\n",
        "\n",
        "\n",
        "\n",
        "---\n",
        "\n",
        "\n",
        "\n",
        "---\n",
        "\n"
      ],
      "metadata": {
        "id": "WQtkeHoeG5w-"
      }
    },
    {
      "cell_type": "markdown",
      "source": [
        "## **Question 8**"
      ],
      "metadata": {
        "id": "OFizHXm4G915"
      }
    },
    {
      "cell_type": "markdown",
      "source": [
        "**Sort the dataset by 'Year of release' in ascending order.**"
      ],
      "metadata": {
        "id": "7HoCLCtjQK8X"
      }
    },
    {
      "cell_type": "code",
      "source": [
        "\n",
        "\n",
        "\n",
        "\n",
        "\n",
        "\n",
        "\n",
        "\n",
        "\n",
        "\n",
        "\n",
        "\n",
        "\n"
      ],
      "metadata": {
        "id": "mfukrjUEQNwI"
      },
      "execution_count": null,
      "outputs": []
    },
    {
      "cell_type": "markdown",
      "source": [
        "\n",
        "\n",
        "---\n",
        "\n",
        "\n",
        "\n",
        "---\n",
        "\n",
        "\n",
        "\n",
        "---\n",
        "\n"
      ],
      "metadata": {
        "id": "BqDWX8xvHF51"
      }
    },
    {
      "cell_type": "markdown",
      "source": [
        "## **Question 9**"
      ],
      "metadata": {
        "id": "4EXrCDkYHHpJ"
      }
    },
    {
      "cell_type": "markdown",
      "source": [
        "**Group the data by 'Genre' and calculate the mean 'Rotten Tomatoes Rating %' for each genre. Also, sort the Genres from highest to lowest Rotten Tomatoes Ratings**"
      ],
      "metadata": {
        "id": "LQKMXobTQN-q"
      }
    },
    {
      "cell_type": "code",
      "source": [
        "\n",
        "\n",
        "\n",
        "\n",
        "\n",
        "\n",
        "\n",
        "\n",
        "\n",
        "\n",
        "\n",
        "\n"
      ],
      "metadata": {
        "id": "n3AMf5jqQRG6"
      },
      "execution_count": null,
      "outputs": []
    },
    {
      "cell_type": "markdown",
      "source": [
        "\n",
        "\n",
        "---\n",
        "\n",
        "\n",
        "\n",
        "---\n",
        "\n",
        "\n",
        "\n",
        "---\n",
        "\n"
      ],
      "metadata": {
        "id": "W6T5Xb_cHMon"
      }
    },
    {
      "cell_type": "markdown",
      "source": [
        "## **Question 10**"
      ],
      "metadata": {
        "id": "zz9j-4I4HM6m"
      }
    },
    {
      "cell_type": "markdown",
      "source": [
        "**Calculate the average budget for films released in each year**"
      ],
      "metadata": {
        "id": "KyjLr3ZyQRU-"
      }
    },
    {
      "cell_type": "code",
      "source": [
        "\n",
        "\n",
        "\n",
        "\n",
        "\n",
        "\n",
        "\n",
        "\n",
        "\n",
        "\n",
        "\n",
        "\n"
      ],
      "metadata": {
        "id": "MH5TmdE9QUe3"
      },
      "execution_count": null,
      "outputs": []
    },
    {
      "cell_type": "markdown",
      "source": [
        "\n",
        "\n",
        "---\n",
        "\n",
        "\n",
        "\n",
        "---\n",
        "\n",
        "\n",
        "\n",
        "---\n",
        "\n"
      ],
      "metadata": {
        "id": "cSdhOmp5HT6U"
      }
    },
    {
      "cell_type": "markdown",
      "source": [
        "## **Question 11**"
      ],
      "metadata": {
        "id": "QTc9tfZ3HT_T"
      }
    },
    {
      "cell_type": "markdown",
      "source": [
        "**Create a bar chart to show the average 'Rotten Tomatoes Ratings %' for each genre.**"
      ],
      "metadata": {
        "id": "7H3tsBS5Qak-"
      }
    },
    {
      "cell_type": "code",
      "source": [
        "\n",
        "\n",
        "\n",
        "\n",
        "\n",
        "\n",
        "\n",
        "\n",
        "\n",
        "\n",
        "\n",
        "\n"
      ],
      "metadata": {
        "id": "Yj7M2A3OQeIi"
      },
      "execution_count": null,
      "outputs": []
    },
    {
      "cell_type": "markdown",
      "source": [
        "\n",
        "\n",
        "---\n",
        "\n",
        "\n",
        "\n",
        "---\n",
        "\n",
        "\n",
        "\n",
        "---\n",
        "\n"
      ],
      "metadata": {
        "id": "C9KFPS6hHeGE"
      }
    },
    {
      "cell_type": "markdown",
      "source": [
        "## **Question 12**"
      ],
      "metadata": {
        "id": "LO7Enzl0HhUP"
      }
    },
    {
      "cell_type": "markdown",
      "source": [
        "**Replace any missing values in the 'Budget (million $)' column with the mean budget of the dataset**"
      ],
      "metadata": {
        "id": "_PQtdhOoQjNA"
      }
    },
    {
      "cell_type": "code",
      "source": [
        "\n",
        "\n",
        "\n",
        "\n",
        "\n",
        "\n",
        "\n",
        "\n",
        "\n",
        "\n",
        "\n",
        "\n",
        "\n",
        "\n"
      ],
      "metadata": {
        "id": "NoqkbvKlQnFX"
      },
      "execution_count": null,
      "outputs": []
    },
    {
      "cell_type": "markdown",
      "source": [
        "\n",
        "\n",
        "---\n",
        "\n",
        "\n",
        "\n",
        "---\n",
        "\n",
        "\n",
        "\n",
        "---\n",
        "\n"
      ],
      "metadata": {
        "id": "B_SJDs5uHlm4"
      }
    },
    {
      "cell_type": "markdown",
      "source": [
        "## **Question 13**"
      ],
      "metadata": {
        "id": "lRQYP5vKHni8"
      }
    },
    {
      "cell_type": "markdown",
      "source": [
        "**Convert the 'Year of release' column to a datetime format.**"
      ],
      "metadata": {
        "id": "w4bvLTRyQwjJ"
      }
    },
    {
      "cell_type": "code",
      "source": [
        "\n",
        "\n",
        "\n",
        "\n",
        "\n",
        "\n",
        "\n",
        "\n",
        "\n",
        "\n",
        "\n",
        "\n",
        "\n"
      ],
      "metadata": {
        "id": "tG3ZnhqkQzGI"
      },
      "execution_count": null,
      "outputs": []
    },
    {
      "cell_type": "markdown",
      "source": [
        "\n",
        "\n",
        "---\n",
        "\n",
        "\n",
        "\n",
        "---\n",
        "\n",
        "\n",
        "\n",
        "---\n",
        "\n"
      ],
      "metadata": {
        "id": "DU-eiYiXHqGF"
      }
    },
    {
      "cell_type": "markdown",
      "source": [
        "## **Question 14**"
      ],
      "metadata": {
        "id": "vz9GhTybH1V4"
      }
    },
    {
      "cell_type": "markdown",
      "source": [
        "**Write code to perform mean imputation for missing values in the 'Audience Ratings' column**"
      ],
      "metadata": {
        "id": "hGXttpO9l73X"
      }
    },
    {
      "cell_type": "code",
      "source": [
        "\n",
        "\n",
        "\n",
        "\n",
        "\n",
        "\n",
        "\n",
        "\n",
        "\n",
        "\n",
        "\n",
        "\n",
        "\n",
        "\n",
        "\n",
        "\n"
      ],
      "metadata": {
        "id": "lFmAmvUtmD1h"
      },
      "execution_count": null,
      "outputs": []
    },
    {
      "cell_type": "markdown",
      "source": [
        "\n",
        "\n",
        "---\n",
        "\n",
        "\n",
        "\n",
        "---\n",
        "\n",
        "\n",
        "\n",
        "---\n",
        "\n"
      ],
      "metadata": {
        "id": "f5PTbdzFH7Li"
      }
    },
    {
      "cell_type": "markdown",
      "source": [
        "## **Question 15**"
      ],
      "metadata": {
        "id": "_b_yQaXuH7N5"
      }
    },
    {
      "cell_type": "markdown",
      "source": [
        "**Create a DataFrame that contains only movies in the 'Action' genre that have a 'RottenTomatoes_Ratings' greater than 80. How many movies are there in this filtered DataFrame?**"
      ],
      "metadata": {
        "id": "Qcx6HwV1ClT6"
      }
    },
    {
      "cell_type": "code",
      "source": [
        "\n",
        "\n",
        "\n",
        "\n",
        "\n",
        "\n",
        "\n",
        "\n",
        "\n",
        "\n",
        "\n",
        "\n",
        "\n",
        "\n",
        "\n",
        "\n",
        "\n"
      ],
      "metadata": {
        "id": "tVt2QCv3Clfo"
      },
      "execution_count": null,
      "outputs": []
    },
    {
      "cell_type": "markdown",
      "source": [
        "\n",
        "\n",
        "---\n",
        "\n",
        "\n",
        "\n",
        "---\n",
        "\n"
      ],
      "metadata": {
        "id": "2t2JsYXzIEU3"
      }
    },
    {
      "cell_type": "markdown",
      "source": [
        "## **Question 16**"
      ],
      "metadata": {
        "id": "BoNA4ql0IEc8"
      }
    },
    {
      "cell_type": "markdown",
      "source": [
        "**Group the movies by 'Year_release' and find the average 'Budget_m' for each year. Return a DataFrame of the years and their corresponding average budgets.**"
      ],
      "metadata": {
        "id": "UPnXkWOmCln-"
      }
    },
    {
      "cell_type": "code",
      "source": [
        "\n",
        "\n",
        "\n",
        "\n",
        "\n",
        "\n",
        "\n",
        "\n",
        "\n",
        "\n",
        "\n",
        "\n"
      ],
      "metadata": {
        "id": "TUd8q1vrClx5"
      },
      "execution_count": null,
      "outputs": []
    },
    {
      "cell_type": "markdown",
      "source": [
        "\n",
        "\n",
        "---\n",
        "\n",
        "---\n",
        "\n",
        "\n",
        "\n",
        "\n",
        "\n",
        "---\n",
        "\n"
      ],
      "metadata": {
        "id": "lLUCP5zNII_w"
      }
    },
    {
      "cell_type": "markdown",
      "source": [
        "## **Question 17**"
      ],
      "metadata": {
        "id": "b3y4a-sFIJRA"
      }
    },
    {
      "cell_type": "markdown",
      "source": [
        "**Create a new column 'Profitable' that contains boolean values. A movie is considered profitable if the 'Audience Ratings' is above 60 and the 'Budget_m' is below the median budget of all movies in the dataset. Show the head of the DataFrame with the new column.**"
      ],
      "metadata": {
        "id": "cWXsGF7tCl5d"
      }
    },
    {
      "cell_type": "code",
      "source": [
        "\n",
        "\n",
        "\n",
        "\n",
        "\n",
        "\n",
        "\n",
        "\n",
        "\n",
        "\n",
        "\n",
        "\n",
        "\n"
      ],
      "metadata": {
        "id": "jMCcDyyDCmBA"
      },
      "execution_count": null,
      "outputs": []
    }
  ]
}