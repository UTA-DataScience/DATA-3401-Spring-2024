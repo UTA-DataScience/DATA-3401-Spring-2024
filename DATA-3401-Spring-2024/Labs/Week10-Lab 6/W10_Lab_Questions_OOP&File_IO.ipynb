{
  "nbformat": 4,
  "nbformat_minor": 0,
  "metadata": {
    "colab": {
      "provenance": []
    },
    "kernelspec": {
      "name": "python3",
      "display_name": "Python 3"
    },
    "language_info": {
      "name": "python"
    }
  },
  "cells": [
    {
      "cell_type": "markdown",
      "source": [
        "# **<center> Week10-lab: OOP &ndash; DATA 3401 (Spring 2024)</center>**\n",
        "\n",
        "## Lab Dates: 3/22\n",
        "\n",
        "## Lab Description\n",
        "\n",
        "The purpose of this lab is for you to\n",
        "\n",
        "- OOP\n",
        "- Fine I/O\n",
        "- Exception"
      ],
      "metadata": {
        "id": "uP8H1nfIicOX"
      }
    },
    {
      "cell_type": "markdown",
      "source": [
        "## **1. The University Course Hierarchy**\n",
        "\n",
        "### Tasks:\n",
        "\n",
        "1. **Course Class (Superclass):**\n",
        "   - Define a superclass named `Course` with the following attributes:\n",
        "     - `course_code` (string): The unique identifier for the course.\n",
        "     - `course_name` (string): The official name of the course.\n",
        "     - `credits` (integer): The credit value of the course.\n",
        "     - `department` (string): The academic department the course belongs to.\n",
        "   - Implement an `__init__` method that initializes a `Course` with the attributes listed above.\n",
        "   - Include the following methods in the `Course` class:\n",
        "     - `display_info()`: Prints the course's details, including its code, name, credits, and department.\n",
        "     - `is_elective()`: Returns a boolean indicating whether the course is an elective.\n",
        "\n",
        "2. **UndergraduateCourse Class (Subclass):**\n",
        "   - Create a subclass named `UndergraduateCourse` that inherits from `Course`. Add the following additional attributes:\n",
        "     - `prerequisites` (list of strings): A list of course codes that are prerequisites.\n",
        "     - `year_offered` (integer): The year in which the course is typically offered.\n",
        "   - Override the `__init__` method to include initialization of the new attributes while ensuring the inherited attributes are also initialized.\n",
        "   - Override the `display_info()` method to include prerequisites and year offered.\n",
        "\n",
        "3. **GraduateCourse Class (Subclass):**\n",
        "   - Create a subclass named `GraduateCourse` that inherits from `Course`. Add the following additional attribute:\n",
        "     - `research_component` (boolean): Indicates whether the course includes a research component.\n",
        "     - `professor` (string): The name of the professor teaching the course.\n",
        "   - Override the `__init__` method to include initialization of the new attributes while ensuring the inherited attributes are also initialized.\n",
        "   - Override the `display_info()` method to include research component and professor's name.\n",
        "\n",
        "4. **Testing Your Code:**\n",
        "   - Create instances of `UndergraduateCourse` and `GraduateCourse` with relevant attributes.\n",
        "   - Demonstrate the use of each method, including inherited and overridden methods, by interacting with both `UndergraduateCourse` and `GraduateCourse` instances.\n",
        "\n",
        "---\n"
      ],
      "metadata": {
        "id": "f0440UpElSoR"
      }
    },
    {
      "cell_type": "code",
      "execution_count": null,
      "metadata": {
        "id": "OOT9ggHqhr1m"
      },
      "outputs": [],
      "source": [
        "\n",
        "\n",
        "\n",
        "\n",
        "\n",
        "\n",
        "\n",
        "\n",
        "\n",
        "\n",
        "\n",
        "\n",
        "\n",
        "\n",
        "\n",
        "\n",
        "\n",
        "\n",
        "\n",
        "\n",
        "\n",
        "\n",
        "\n",
        "\n",
        "\n",
        "\n",
        "\n",
        "\n",
        "\n",
        "\n",
        "\n",
        "\n"
      ]
    },
    {
      "cell_type": "markdown",
      "source": [
        "\n",
        "\n",
        "---\n",
        "\n",
        "\n",
        "\n",
        "---\n",
        "\n",
        "\n",
        "\n",
        "---\n",
        "\n",
        "\n",
        "\n",
        "---\n",
        "\n",
        "\n",
        "\n",
        "---\n",
        "\n",
        "\n",
        "\n",
        "---\n",
        "\n",
        "\n",
        "\n",
        "---\n",
        "\n"
      ],
      "metadata": {
        "id": "hNcFCqIpnMYO"
      }
    },
    {
      "cell_type": "markdown",
      "source": [
        "## **Question 2: Writing to a File**\n",
        "Write a Python program that asks the user for their name, age, and city, and then writes this information to a file named userinfo.txt in the format: Name: [name], Age: [age], City: [city]. Ensure that each entry is on a new line. If the file already exists, your program should append the new information to the file without overwriting the existing content."
      ],
      "metadata": {
        "id": "6sTmu6B6lVsX"
      }
    },
    {
      "cell_type": "code",
      "source": [
        "\n",
        "\n",
        "\n",
        "\n",
        "\n",
        "\n",
        "\n",
        "\n",
        "\n",
        "\n",
        "\n",
        "\n",
        "\n",
        "\n",
        "\n",
        "\n",
        "\n",
        "\n",
        "\n",
        "\n",
        "\n"
      ],
      "metadata": {
        "id": "TvD47tWXlWQf"
      },
      "execution_count": null,
      "outputs": []
    },
    {
      "cell_type": "markdown",
      "source": [
        "\n",
        "\n",
        "---\n",
        "\n",
        "\n",
        "\n",
        "---\n",
        "\n",
        "\n",
        "\n",
        "---\n",
        "\n",
        "\n",
        "\n",
        "---\n",
        "\n"
      ],
      "metadata": {
        "id": "VvmlWa7A7K0U"
      }
    },
    {
      "cell_type": "markdown",
      "source": [
        "## **Question 3: Calculate_total_transactions**\n",
        "Write a Python function named calculate_total_transactions that takes a list of transaction amounts and prints the total amount. Your function should adhere to the following specifications:\n",
        "\n",
        "- If the list contains non-numeric values, catch a TypeError and print \"Error: Transaction amounts must be numeric.\"\n",
        "- If the list is empty, print \"Error: No transactions to process.\"\n",
        "- Handle any other unexpected error by printing \"An unspecified error occurred.\" along with the error message.\n",
        "Demonstrate your function's capabilities by testing it with these scenarios:\n",
        "\n",
        "1. A valid list of transactions: [100, 50, -30, 20, 10]\n",
        "2. An empty list: []\n",
        "3. A list containing a non-numeric value: [100, 50, 'fifty', 20]\n",
        "\n",
        "Ensure your code handles these scenarios appropriately, displaying the correct message for each case."
      ],
      "metadata": {
        "id": "2x_gj54o6Ybc"
      }
    },
    {
      "cell_type": "code",
      "source": [
        "\n",
        "\n",
        "\n",
        "\n",
        "\n",
        "\n",
        "\n",
        "\n",
        "\n",
        "\n",
        "\n",
        "\n",
        "\n",
        "\n",
        "\n",
        "\n",
        "\n",
        "\n",
        "\n",
        "\n",
        "\n"
      ],
      "metadata": {
        "id": "FTfZUBCimoQG"
      },
      "execution_count": null,
      "outputs": []
    },
    {
      "cell_type": "markdown",
      "source": [
        "\n",
        "\n",
        "---\n",
        "\n",
        "\n",
        "\n",
        "---\n",
        "\n",
        "\n",
        "\n",
        "---\n",
        "\n",
        "\n",
        "\n",
        "---\n",
        "\n",
        "\n",
        "\n",
        "---\n",
        "\n"
      ],
      "metadata": {
        "id": "Bns2Ucw86djc"
      }
    },
    {
      "cell_type": "markdown",
      "source": [
        "## **Question 4: Counting Words in a File**\n",
        "Task: Write a Python script that opens a file named article.txt for reading. Your script should count the total number of words in the file and print this total. Assume that words are separated by whitespace."
      ],
      "metadata": {
        "id": "YWHDr5Zs6xMd"
      }
    },
    {
      "cell_type": "code",
      "source": [
        "\n",
        "\n",
        "\n",
        "\n",
        "\n",
        "\n",
        "\n",
        "\n",
        "\n",
        "\n",
        "\n",
        "\n",
        "\n",
        "\n",
        "\n",
        "\n",
        "\n",
        "\n",
        "\n",
        "\n",
        "\n",
        "\n",
        "\n"
      ],
      "metadata": {
        "id": "v-PCvglA6dp1"
      },
      "execution_count": null,
      "outputs": []
    }
  ]
}