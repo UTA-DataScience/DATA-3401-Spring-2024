{
  "cells": [
    {
      "cell_type": "markdown",
      "id": "00345375",
      "metadata": {
        "id": "00345375"
      },
      "source": [
        "# **<center> Week7-lab: OOP &ndash; DATA 3401 (Spring 2024)</center>**\n",
        "\n",
        "## Lab Dates: 2/30\n",
        "\n",
        "## Lab Description\n",
        "\n",
        "The purpose of this lab is for you to\n",
        "\n",
        "- Classes and Objects\n",
        "- Methods\n",
        "- instance of a class\n",
        "\n"
      ]
    },
    {
      "cell_type": "markdown",
      "source": [
        "\n",
        "\n",
        "---\n"
      ],
      "metadata": {
        "id": "uYxOihOPnIgP"
      },
      "id": "uYxOihOPnIgP"
    },
    {
      "cell_type": "markdown",
      "source": [
        "### **Question 1:**"
      ],
      "metadata": {
        "id": "fgXBD1dupcui"
      },
      "id": "fgXBD1dupcui"
    },
    {
      "cell_type": "markdown",
      "source": [
        "Create a Python class called Student with attributes name and age. Implement a method display to print the student's name and age."
      ],
      "metadata": {
        "id": "ykUIvOBRpdJH"
      },
      "id": "ykUIvOBRpdJH"
    },
    {
      "cell_type": "code",
      "source": [
        "\n",
        "\n",
        "\n",
        "\n",
        "\n",
        "\n",
        "\n",
        "\n",
        "\n"
      ],
      "metadata": {
        "id": "U8xG0kttpdP6"
      },
      "id": "U8xG0kttpdP6",
      "execution_count": null,
      "outputs": []
    },
    {
      "cell_type": "markdown",
      "source": [
        "\n",
        "\n",
        "---\n",
        "\n",
        "\n",
        "\n",
        "---\n",
        "\n",
        "\n",
        "\n",
        "---\n",
        "\n"
      ],
      "metadata": {
        "id": "DCsBFBZSp8-9"
      },
      "id": "DCsBFBZSp8-9"
    },
    {
      "cell_type": "markdown",
      "source": [
        "### **Question 2:**"
      ],
      "metadata": {
        "id": "3YSk6gc0wF4Q"
      },
      "id": "3YSk6gc0wF4Q"
    },
    {
      "cell_type": "markdown",
      "source": [
        "Define a class `Car` with the following instance attributes initialized via the `__init__` method: `make`, `model`, and `year`.\n",
        "\n",
        "Create a method within the `Car` class that prints a description of the car (including its make, model, and year).\n",
        "\n",
        "Instantiate an object of the `Car` class with make \"Toyota\", model \"Corolla\", and year 2020, and call the method to print its description.\n"
      ],
      "metadata": {
        "id": "7qOuYFiXtBvY"
      },
      "id": "7qOuYFiXtBvY"
    },
    {
      "cell_type": "code",
      "source": [
        "\n",
        "\n",
        "\n",
        "\n",
        "\n",
        "\n",
        "\n",
        "\n",
        "\n",
        "\n",
        "\n",
        "\n"
      ],
      "metadata": {
        "id": "LCPapmVGtB3Q"
      },
      "id": "LCPapmVGtB3Q",
      "execution_count": null,
      "outputs": []
    },
    {
      "cell_type": "markdown",
      "source": [
        "\n",
        "\n",
        "---\n",
        "\n",
        "\n",
        "\n",
        "---\n",
        "\n",
        "\n",
        "\n",
        "---\n",
        "\n"
      ],
      "metadata": {
        "id": "1Gw3VXgYtCDg"
      },
      "id": "1Gw3VXgYtCDg"
    },
    {
      "cell_type": "markdown",
      "source": [
        "### **Question 3:**"
      ],
      "metadata": {
        "id": "E-rLQEF7pqjP"
      },
      "id": "E-rLQEF7pqjP"
    },
    {
      "cell_type": "markdown",
      "source": [
        "Implement a Python class called BankAccount with attributes account_number and balance. Implement methods deposit and withdraw to add and subtract money from the account.\n",
        "\n"
      ],
      "metadata": {
        "id": "xf_bugo2pql2"
      },
      "id": "xf_bugo2pql2"
    },
    {
      "cell_type": "code",
      "source": [
        "\n",
        "\n",
        "\n",
        "\n",
        "\n",
        "\n",
        "\n",
        "\n",
        "\n",
        "\n",
        "\n",
        "\n",
        "\n",
        "\n"
      ],
      "metadata": {
        "id": "PK3XWtWjpqxD"
      },
      "id": "PK3XWtWjpqxD",
      "execution_count": null,
      "outputs": []
    },
    {
      "cell_type": "markdown",
      "id": "bfd1969b",
      "metadata": {
        "id": "bfd1969b"
      },
      "source": [
        "---\n",
        "\n",
        "---\n",
        "\n",
        "\n",
        "\n",
        "---\n",
        "\n"
      ]
    },
    {
      "cell_type": "markdown",
      "source": [
        "### **Question 4:**"
      ],
      "metadata": {
        "id": "MS25grAFvYCx"
      },
      "id": "MS25grAFvYCx"
    },
    {
      "cell_type": "markdown",
      "source": [
        "## Banking System Simulation\n",
        "\n",
        "**Objective:** Create a simple simulation of a banking system using Object-Oriented Programming (OOP) concepts. This task will help you understand how to define classes, create instances, and implement class methods to perform operations.\n",
        "\n",
        "### Part 1: Define the BankAccount Class\n",
        "**Class Definition:** Start by defining a class named `BankAccount`.\n",
        "**Attributes:**\n",
        "- `account_number`: A unique identifier for the bank account.\n",
        "- `name`: The name of the account holder.\n",
        "- `balance`: The current balance in the account (initialized with the balance provided when the account is created).\n",
        "\n",
        "**Constructor:**\n",
        "- Define an `__init__` method that initializes the `account_number`, `name`, and `balance` attributes.\n",
        "\n",
        "### Part 2: Implement BankAccount Methods\n",
        "**Deposit:**\n",
        "- Define a method named `deposit` that takes an amount as an argument and adds it to the account's balance. After adding, print the new balance with a message.\n",
        "\n",
        "**Withdraw:**\n",
        "- Create a `withdraw` method that takes an amount to be withdrawn. If there are sufficient funds (balance is greater than or equal to the amount), subtract the amount from the balance and print the new balance. If not, print a message indicating insufficient funds.\n",
        "\n",
        "**Get Balance:**\n",
        "- Implement a method `get_balance` that prints the current balance of the account.\n",
        "\n",
        "**Transfer:**\n",
        "- Add a method named `transfer` that takes two arguments: the amount to be transferred and the `recipient_account` (another instance of `BankAccount`). First, check if the current account has enough balance to cover the transfer. If yes, subtract the amount from the sender's account and add it to the recipient's account balance. Print a success message including the new balance. If not, print a message indicating insufficient funds.\n",
        "\n",
        "### Part 3: Create the Bank Class\n",
        "**Class Definition:** Define a class named `Bank`.\n",
        "**Attributes:**\n",
        "- `accounts`: A list that will hold instances of `BankAccount`.\n",
        "\n",
        "**Methods:**\n",
        "- `add_account`: Takes a `BankAccount` instance and adds it to the `accounts` list.\n",
        "- `show_accounts`: Iterates through the `accounts` list and prints details of each account, including the account number, name, and balance.\n"
      ],
      "metadata": {
        "id": "KcqLBBJUX1bI"
      },
      "id": "KcqLBBJUX1bI"
    },
    {
      "cell_type": "markdown",
      "source": [
        "## **After Creating the classes**\n",
        "- Create at least two instances (Objects) of BankAccount with different initial balances.\n",
        "- Demonstrate depositing, withdrawing, and transferring funds between these accounts.\n",
        "- Create an instance (object) of Bank, add your BankAccount instances to it, and use the show_accounts method to display all accounts in the bank."
      ],
      "metadata": {
        "id": "ldiLx5oPYeN-"
      },
      "id": "ldiLx5oPYeN-"
    },
    {
      "cell_type": "code",
      "source": [
        "\n",
        "\n",
        "\n",
        "\n",
        "\n",
        "\n",
        "\n",
        "\n",
        "\n",
        "\n",
        "\n",
        "\n",
        "\n",
        "\n",
        "\n",
        "\n",
        "\n",
        "\n",
        "\n",
        "\n",
        "\n",
        "\n",
        "\n",
        "\n",
        "\n",
        "\n",
        "\n",
        "\n",
        "\n",
        "\n",
        "\n",
        "\n",
        "\n",
        "\n",
        "\n",
        "\n",
        "\n"
      ],
      "metadata": {
        "id": "EKjbiRAIvYKY"
      },
      "id": "EKjbiRAIvYKY",
      "execution_count": null,
      "outputs": []
    },
    {
      "cell_type": "markdown",
      "source": [
        "\n",
        "\n",
        "---\n",
        "\n",
        "\n",
        "\n"
      ],
      "metadata": {
        "id": "n90pdK0joB8k"
      },
      "id": "n90pdK0joB8k"
    }
  ],
  "metadata": {
    "kernelspec": {
      "display_name": "Python 3 (ipykernel)",
      "language": "python",
      "name": "python3"
    },
    "language_info": {
      "codemirror_mode": {
        "name": "ipython",
        "version": 3
      },
      "file_extension": ".py",
      "mimetype": "text/x-python",
      "name": "python",
      "nbconvert_exporter": "python",
      "pygments_lexer": "ipython3",
      "version": "3.9.13"
    },
    "colab": {
      "provenance": []
    }
  },
  "nbformat": 4,
  "nbformat_minor": 5
}