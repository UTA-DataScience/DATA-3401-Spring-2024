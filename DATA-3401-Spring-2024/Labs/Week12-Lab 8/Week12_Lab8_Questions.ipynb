{
  "nbformat": 4,
  "nbformat_minor": 0,
  "metadata": {
    "colab": {
      "provenance": []
    },
    "kernelspec": {
      "name": "python3",
      "display_name": "Python 3"
    },
    "language_info": {
      "name": "python"
    }
  },
  "cells": [
    {
      "cell_type": "markdown",
      "source": [
        "# **Week 11- Lab**: Pandas"
      ],
      "metadata": {
        "id": "EseBMxpWTQXz"
      }
    },
    {
      "cell_type": "markdown",
      "source": [
        "### **Use this dataframe to answer the questions:**"
      ],
      "metadata": {
        "id": "33iPp2LgTQcW"
      }
    },
    {
      "cell_type": "code",
      "source": [
        "data = {\n",
        "    'name': ['John', 'Jane', 'Mike', 'Anna', 'Lucy', 'Emma', 'Dave', 'Sophia', 'Zhang', 'Liam'],\n",
        "    'age': [25, 20, 40, 105, np.nan, 30, 45, 38, 50, 27],\n",
        "    'experience': [2, 3, 5, 8, np.nan, 5, 20, 10, 25, 4],\n",
        "    'education level': ['Bachelor', 'Master', 'PhD', 'High School', 'PhD', 'Master', 'PhD', 'Bachelor', 'PhD', 'Master'],\n",
        "    'salary': ['50000', np.nan, 60000, 65000, 75000, 55000, 120000, 65000, 130000, 50000],\n",
        "    'location': ['New York', 'San Francisco', 'Austin', 'Beijing', 'Berlin', 'Toronto', 'London', 'Sydney', 'Tokyo', 'Dublin'],\n",
        "    'department': ['Marketing', 'Engineering', 'Sales', 'Research', 'Design', 'HR', 'Finance', 'IT', 'Operations', 'Logistics'],\n",
        "    'languages_known': [2, 3, 1, 2, 3, 1, 2, 3, 2, 2]\n",
        "}"
      ],
      "metadata": {
        "id": "48w84te5TQ0d"
      },
      "execution_count": null,
      "outputs": []
    },
    {
      "cell_type": "markdown",
      "source": [
        "\n",
        "\n",
        "---\n",
        "\n",
        "\n",
        "\n",
        "---\n",
        "\n",
        "\n",
        "\n",
        "---\n",
        "\n",
        "\n",
        "\n",
        "---\n",
        "\n"
      ],
      "metadata": {
        "id": "ShS4JwWpTRAc"
      }
    },
    {
      "cell_type": "markdown",
      "source": [
        "## **Question 1:**"
      ],
      "metadata": {
        "id": "584kC0sRT1X8"
      }
    },
    {
      "cell_type": "markdown",
      "source": [
        " Display the first three rows of the `employees_df` dataframe."
      ],
      "metadata": {
        "id": "RQQ3qpPPTRDm"
      }
    },
    {
      "cell_type": "code",
      "source": [
        "\n",
        "\n",
        "\n",
        "\n",
        "\n",
        "\n",
        "\n",
        "\n",
        "\n",
        "\n",
        "\n"
      ],
      "metadata": {
        "id": "PZPTeko9TRP1"
      },
      "execution_count": null,
      "outputs": []
    },
    {
      "cell_type": "markdown",
      "source": [
        "\n",
        "\n",
        "---\n",
        "\n",
        "\n",
        "\n",
        "---\n",
        "\n"
      ],
      "metadata": {
        "id": "P7IzAX6TTRZ_"
      }
    },
    {
      "cell_type": "markdown",
      "source": [
        "## **Question 2:**"
      ],
      "metadata": {
        "id": "oLa3fmppUAnN"
      }
    },
    {
      "cell_type": "markdown",
      "source": [
        "Identify any missing values in the dataframe."
      ],
      "metadata": {
        "id": "UHvb6jUpTRcV"
      }
    },
    {
      "cell_type": "code",
      "source": [
        "\n",
        "\n",
        "\n",
        "\n",
        "\n",
        "\n",
        "\n",
        "\n",
        "\n",
        "\n",
        "\n",
        "\n",
        "\n"
      ],
      "metadata": {
        "id": "t6Jtm0nITRlu"
      },
      "execution_count": null,
      "outputs": []
    },
    {
      "cell_type": "markdown",
      "source": [
        "\n",
        "\n",
        "---\n",
        "\n",
        "\n",
        "\n",
        "---\n",
        "\n",
        "\n",
        "\n"
      ],
      "metadata": {
        "id": "8T4ACuUXTRty"
      }
    },
    {
      "cell_type": "markdown",
      "source": [
        "## **Question 3:**"
      ],
      "metadata": {
        "id": "eZ6_cZdHUEOF"
      }
    },
    {
      "cell_type": "markdown",
      "source": [
        "Replace any missing values in the `experience` column with the median of that column."
      ],
      "metadata": {
        "id": "9dDCPfxfTRwq"
      }
    },
    {
      "cell_type": "code",
      "source": [
        "\n",
        "\n",
        "\n",
        "\n",
        "\n",
        "\n",
        "\n",
        "\n",
        "\n",
        "\n",
        "\n"
      ],
      "metadata": {
        "id": "iJAeNK43TR4v"
      },
      "execution_count": null,
      "outputs": []
    },
    {
      "cell_type": "markdown",
      "source": [
        "## **Question 4:**"
      ],
      "metadata": {
        "id": "ILwqG9MDTSTY"
      }
    },
    {
      "cell_type": "markdown",
      "source": [
        "Convert the `salary` column to a numeric data type, handling any non-numeric values by replacing them with the mean salary."
      ],
      "metadata": {
        "id": "hZipjdoXTSVr"
      }
    },
    {
      "cell_type": "code",
      "source": [
        "\n",
        "\n",
        "\n",
        "\n",
        "\n",
        "\n",
        "\n",
        "\n",
        "\n",
        "\n",
        "\n",
        "\n"
      ],
      "metadata": {
        "id": "fQi_1aAuTSeS"
      },
      "execution_count": null,
      "outputs": []
    },
    {
      "cell_type": "markdown",
      "source": [
        "## **Question 5:**"
      ],
      "metadata": {
        "id": "eyofxWqxTSnZ"
      }
    },
    {
      "cell_type": "markdown",
      "source": [
        "Rename the column `education level` to `Education_level`."
      ],
      "metadata": {
        "id": "7yz1viBrTSqA"
      }
    },
    {
      "cell_type": "code",
      "source": [
        "\n",
        "\n",
        "\n",
        "\n",
        "\n",
        "\n",
        "\n",
        "\n",
        "\n",
        "\n",
        "\n",
        "\n"
      ],
      "metadata": {
        "id": "FAF2HpUvTS3B"
      },
      "execution_count": null,
      "outputs": []
    },
    {
      "cell_type": "markdown",
      "source": [
        "## **Question 6:**"
      ],
      "metadata": {
        "id": "Hx67hlE7TS_4"
      }
    },
    {
      "cell_type": "markdown",
      "source": [
        "Find the average age of employees in the dataframe."
      ],
      "metadata": {
        "id": "jqHMmG2qTTDR"
      }
    },
    {
      "cell_type": "code",
      "source": [
        "\n",
        "\n",
        "\n",
        "\n",
        "\n",
        "\n",
        "\n",
        "\n",
        "\n",
        "\n"
      ],
      "metadata": {
        "id": "uz5U42hqTTM6"
      },
      "execution_count": null,
      "outputs": []
    },
    {
      "cell_type": "markdown",
      "source": [
        "## **Question 7:**"
      ],
      "metadata": {
        "id": "Tt5wFRVlTTWS"
      }
    },
    {
      "cell_type": "markdown",
      "source": [
        "Filter the dataframe to display only those employees who have a Master's degree or higher in the `education_level` column."
      ],
      "metadata": {
        "id": "qh5mGK0ZTTau"
      }
    },
    {
      "cell_type": "code",
      "source": [
        "\n",
        "\n",
        "\n",
        "\n",
        "\n",
        "\n",
        "\n",
        "\n",
        "\n",
        "\n",
        "\n",
        "\n"
      ],
      "metadata": {
        "id": "AzEkH3sETThy"
      },
      "execution_count": null,
      "outputs": []
    },
    {
      "cell_type": "markdown",
      "source": [
        "## **Question 8:**"
      ],
      "metadata": {
        "id": "kKWAsFfdTTqY"
      }
    },
    {
      "cell_type": "markdown",
      "source": [
        "Using the `apply` function, create a new column `experience_category` that categorizes employees as \"Junior\" if they have less than 3 years of experience, \"Mid-level\" if they have 3 to 7 years, and \"Senior\" if they have more than 7 years."
      ],
      "metadata": {
        "id": "K9NVyThzTTsd"
      }
    },
    {
      "cell_type": "code",
      "source": [
        "\n",
        "\n",
        "\n",
        "\n",
        "\n",
        "\n",
        "\n",
        "\n",
        "\n",
        "\n",
        "\n",
        "\n",
        "\n"
      ],
      "metadata": {
        "id": "zwTk6UiJTT0j"
      },
      "execution_count": null,
      "outputs": []
    },
    {
      "cell_type": "markdown",
      "source": [
        "## **Question 9:**"
      ],
      "metadata": {
        "id": "_tBciTlcTT-9"
      }
    },
    {
      "cell_type": "markdown",
      "source": [
        "Identify and remove any duplicate rows from the dataframe."
      ],
      "metadata": {
        "id": "8YurhLs8TUCG"
      }
    },
    {
      "cell_type": "code",
      "source": [
        "\n",
        "\n",
        "\n",
        "\n",
        "\n",
        "\n",
        "\n",
        "\n",
        "\n",
        "\n",
        "\n",
        "\n"
      ],
      "metadata": {
        "id": "Yd6ecjNgTULd"
      },
      "execution_count": null,
      "outputs": []
    },
    {
      "cell_type": "markdown",
      "source": [
        "## **Question 10:**"
      ],
      "metadata": {
        "id": "eL-ROr8ZTUUD"
      }
    },
    {
      "cell_type": "markdown",
      "source": [
        "Find employees who have \"PhD\" in their education but a salary less than the mean salary of the dataframe."
      ],
      "metadata": {
        "id": "VD_-ExZeTUWq"
      }
    },
    {
      "cell_type": "code",
      "source": [
        "\n",
        "\n",
        "\n",
        "\n",
        "\n",
        "\n",
        "\n",
        "\n",
        "\n",
        "\n",
        "\n",
        "\n"
      ],
      "metadata": {
        "id": "RR0o8A7oTUgj"
      },
      "execution_count": null,
      "outputs": []
    },
    {
      "cell_type": "markdown",
      "source": [
        "## **Question 11:**"
      ],
      "metadata": {
        "id": "UXuS4tOoTUqd"
      }
    },
    {
      "cell_type": "markdown",
      "source": [
        "Sort the dataframe based on the `experience` column in descending order."
      ],
      "metadata": {
        "id": "0pFbDzWgTUtW"
      }
    },
    {
      "cell_type": "code",
      "source": [
        "\n",
        "\n",
        "\n",
        "\n",
        "\n",
        "\n",
        "\n",
        "\n",
        "\n",
        "\n",
        "\n"
      ],
      "metadata": {
        "id": "BZ5cfU9STU0a"
      },
      "execution_count": null,
      "outputs": []
    },
    {
      "cell_type": "markdown",
      "source": [
        "## **Question 12:**"
      ],
      "metadata": {
        "id": "h1XdDnaAUjfS"
      }
    },
    {
      "cell_type": "markdown",
      "source": [
        "Group the dataframe by `education_level` and find the average salary for each education level."
      ],
      "metadata": {
        "id": "NdlXXU_RUjh5"
      }
    },
    {
      "cell_type": "code",
      "source": [
        "\n",
        "\n",
        "\n",
        "\n",
        "\n",
        "\n",
        "\n",
        "\n",
        "\n",
        "\n",
        "\n",
        "\n",
        "\n",
        "\n"
      ],
      "metadata": {
        "id": "9yEIdcE5Ujpc"
      },
      "execution_count": null,
      "outputs": []
    },
    {
      "cell_type": "markdown",
      "source": [
        "## **Question 13:**"
      ],
      "metadata": {
        "id": "knQU603uxpKx"
      }
    },
    {
      "cell_type": "markdown",
      "source": [
        "Write a function that categorizes each employee's experience into 'Novice', 'Intermediate', or 'Expert' based on the number of years of experience:\n",
        "\n",
        "- 'Novice' for less than 5 years.\n",
        "- 'Intermediate' for 5 to 10 years.\n",
        "- 'Expert' for more than 10 years.\n",
        "\n",
        "Consider missing experience values as 'Unknown' and handle them appropriately in your function.\n",
        "\n",
        "Apply this function to the experience column to create a new column named experience_level."
      ],
      "metadata": {
        "id": "q--yCqOsxpT6"
      }
    },
    {
      "cell_type": "code",
      "source": [
        "\n",
        "\n",
        "\n",
        "\n",
        "\n",
        "\n",
        "\n",
        "\n",
        "\n",
        "\n",
        "\n",
        "\n",
        "\n",
        "\n",
        "\n"
      ],
      "metadata": {
        "id": "NURHHOkpyFGA"
      },
      "execution_count": null,
      "outputs": []
    }
  ]
}