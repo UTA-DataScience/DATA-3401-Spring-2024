{
  "nbformat": 4,
  "nbformat_minor": 0,
  "metadata": {
    "colab": {
      "provenance": []
    },
    "kernelspec": {
      "name": "python3",
      "display_name": "Python 3"
    },
    "language_info": {
      "name": "python"
    }
  },
  "cells": [
    {
      "cell_type": "markdown",
      "source": [
        "# **Week 12-Homework8. Pandas_DataFrames**\n",
        "\n",
        "**The due date for Homework 8 is next Friday, April 12, at 3 PM. Please don't forget to submit it through GitHub.**\n",
        "\n",
        "\n",
        "\n",
        "---\n",
        "\n",
        "\n",
        "\n",
        "---\n",
        "\n",
        "\n",
        "\n",
        "---\n",
        "\n",
        "\n",
        "\n",
        "---\n",
        "\n"
      ],
      "metadata": {
        "id": "oHpLmQUQ0PZF"
      }
    },
    {
      "cell_type": "code",
      "execution_count": null,
      "metadata": {
        "id": "7y3QooBusdvm"
      },
      "outputs": [],
      "source": [
        "import pandas as pd\n",
        "import numpy as np\n",
        "import matplotlib.pyplot as plt\n",
        "\n",
        "data = {\n",
        "    'employee_id': [101, 102, 103, 104, 105, 106, 107, 108, 109, 110],\n",
        "    'name': ['Alice', 'Bob', 'Charlie', 'Diana', 'Evan', 'Fiona', 'George', 'Hannah', 'Ian', 'Jenna'],\n",
        "    'department': ['HR', 'Engineering', 'Engineering', 'Marketing', 'HR', 'Finance', 'IT', 'Marketing', 'Finance', 'IT'],\n",
        "    'join_date': ['2020-01-10', '2019-04-23', '2021-07-04', '2018-02-11', '2022-05-19', '2019-11-09', '2020-06-01', '2021-03-15', '2019-08-22', '2020-11-03'],\n",
        "    'salary': [70000, 85000, 80000, 75000, 68000, 72000, 78000, 74000, 77000, 79000],\n",
        "    'projects_completed': [5, 9, 7, 4, 2, 6, 8, 3, 10, 5]\n",
        "}\n",
        "\n",
        "employees = pd.DataFrame(data)\n"
      ]
    },
    {
      "cell_type": "markdown",
      "source": [
        "# **Question 1**"
      ],
      "metadata": {
        "id": "_mO6kM64zHQa"
      }
    },
    {
      "cell_type": "markdown",
      "source": [
        "How many employees are there in the Engineering department?\n",
        "\n",
        "Filter the DataFrame to only include employees from the Engineering department and count them."
      ],
      "metadata": {
        "id": "kxfXtBRYtzh6"
      }
    },
    {
      "cell_type": "code",
      "source": [
        "\n",
        "\n",
        "\n",
        "\n",
        "\n",
        "\n",
        "\n",
        "\n",
        "\n",
        "\n",
        "\n",
        "\n",
        "\n",
        "\n"
      ],
      "metadata": {
        "id": "WJTrTWBTs3j4"
      },
      "execution_count": null,
      "outputs": []
    },
    {
      "cell_type": "markdown",
      "source": [
        "\n",
        "\n",
        "---\n",
        "\n",
        "\n",
        "\n",
        "---\n",
        "\n",
        "\n",
        "\n",
        "---\n",
        "\n"
      ],
      "metadata": {
        "id": "nbrHhxNvzNaI"
      }
    },
    {
      "cell_type": "markdown",
      "source": [
        "# **Question 2**"
      ],
      "metadata": {
        "id": "IibdEH0szN1Q"
      }
    },
    {
      "cell_type": "markdown",
      "source": [
        "What is the average salary of employees in the Marketing department?\n",
        "\n",
        "Filter the DataFrame for employees in the Marketing department and calculate the average salary."
      ],
      "metadata": {
        "id": "j0VBVryLt-KX"
      }
    },
    {
      "cell_type": "code",
      "source": [
        "\n",
        "\n",
        "\n",
        "\n",
        "\n",
        "\n",
        "\n",
        "\n",
        "\n",
        "\n",
        "\n",
        "\n"
      ],
      "metadata": {
        "id": "irOQTj7Et7N_"
      },
      "execution_count": null,
      "outputs": []
    },
    {
      "cell_type": "markdown",
      "source": [
        "\n",
        "\n",
        "---\n",
        "\n",
        "\n",
        "\n",
        "---\n",
        "\n",
        "\n",
        "\n",
        "---\n",
        "\n"
      ],
      "metadata": {
        "id": "NErVxL64zQuI"
      }
    },
    {
      "cell_type": "markdown",
      "source": [
        "# **Question 3**"
      ],
      "metadata": {
        "id": "738Yxk8LzT-M"
      }
    },
    {
      "cell_type": "markdown",
      "source": [
        "Who is the employee with the highest number of projects completed? What department do they work in?\n",
        "\n",
        "Identify the employee with the maximum projects completed and retrieve their name and department."
      ],
      "metadata": {
        "id": "Za8YJ7HUuE2v"
      }
    },
    {
      "cell_type": "code",
      "source": [
        "\n",
        "\n",
        "\n",
        "\n",
        "\n",
        "\n",
        "\n",
        "\n",
        "\n",
        "\n",
        "\n",
        "\n",
        "\n",
        "\n"
      ],
      "metadata": {
        "id": "ZNDEVQeYuB7H"
      },
      "execution_count": null,
      "outputs": []
    },
    {
      "cell_type": "markdown",
      "source": [
        "\n",
        "\n",
        "---\n",
        "\n",
        "\n",
        "\n",
        "---\n",
        "\n",
        "\n",
        "\n",
        "---\n",
        "\n"
      ],
      "metadata": {
        "id": "G2a1GunIzZV_"
      }
    },
    {
      "cell_type": "markdown",
      "source": [
        "# **Question 4**"
      ],
      "metadata": {
        "id": "63RXok53zZgH"
      }
    },
    {
      "cell_type": "markdown",
      "source": [
        "Create a new column in the DataFrame named year_joined that contains only the year from join_date.\n",
        "\n",
        "Extract the year from join_date and create a new column."
      ],
      "metadata": {
        "id": "r1OX8hB3ubAe"
      }
    },
    {
      "cell_type": "code",
      "source": [
        "\n",
        "\n",
        "\n",
        "\n",
        "\n",
        "\n",
        "\n",
        "\n",
        "\n",
        "\n",
        "\n",
        "\n",
        "\n",
        "\n",
        "\n",
        "\n",
        "\n"
      ],
      "metadata": {
        "id": "yHZgFPduuIrv"
      },
      "execution_count": null,
      "outputs": []
    },
    {
      "cell_type": "markdown",
      "source": [
        "\n",
        "\n",
        "\n",
        "---\n",
        "\n",
        "\n",
        "\n",
        "---\n",
        "\n",
        "\n",
        "---\n",
        "\n"
      ],
      "metadata": {
        "id": "vbcNjw-OzdBo"
      }
    },
    {
      "cell_type": "markdown",
      "source": [
        "# **Question 5**"
      ],
      "metadata": {
        "id": "sReOEHMkzyO6"
      }
    },
    {
      "cell_type": "markdown",
      "source": [
        "Find the total number of projects completed by each department.\n",
        "\n",
        "Group the DataFrame by department and sum up the projects_completed"
      ],
      "metadata": {
        "id": "IwRpMUUGueMn"
      }
    },
    {
      "cell_type": "code",
      "source": [
        "\n",
        "\n",
        "\n",
        "\n",
        "\n",
        "\n",
        "\n",
        "\n",
        "\n",
        "\n",
        "\n",
        "\n",
        "\n",
        "\n",
        "\n",
        "\n"
      ],
      "metadata": {
        "id": "OTp-R8eGueYp"
      },
      "execution_count": null,
      "outputs": []
    },
    {
      "cell_type": "markdown",
      "source": [
        "\n",
        "\n",
        "---\n",
        "\n",
        "\n",
        "\n",
        "---\n",
        "\n",
        "\n",
        "\n",
        "---\n",
        "\n"
      ],
      "metadata": {
        "id": "8FhK9ABlzz3W"
      }
    },
    {
      "cell_type": "markdown",
      "source": [
        "# **Question 6**"
      ],
      "metadata": {
        "id": "7DxZiDSYz1nm"
      }
    },
    {
      "cell_type": "markdown",
      "source": [
        "Check for Duplicate Rows in the DataFrame\n",
        "\n",
        "Determine if there are any duplicate rows in the employees DataFrame. Consider all columns for identifying duplicates."
      ],
      "metadata": {
        "id": "vq72ScMSuehz"
      }
    },
    {
      "cell_type": "code",
      "source": [
        "\n",
        "\n",
        "\n",
        "\n",
        "\n",
        "\n",
        "\n",
        "\n",
        "\n",
        "\n",
        "\n",
        "\n",
        "\n",
        "\n"
      ],
      "metadata": {
        "id": "twggmUF_ueq1"
      },
      "execution_count": null,
      "outputs": []
    },
    {
      "cell_type": "markdown",
      "source": [
        "\n",
        "\n",
        "---\n",
        "\n",
        "\n",
        "\n",
        "---\n",
        "\n",
        "\n",
        "\n",
        "---\n",
        "\n"
      ],
      "metadata": {
        "id": "lcyn_kGEz4lL"
      }
    },
    {
      "cell_type": "markdown",
      "source": [
        "# **Question 7**"
      ],
      "metadata": {
        "id": "2ltKYDWRz49a"
      }
    },
    {
      "cell_type": "markdown",
      "source": [
        "Find Missing Values\n",
        "\n",
        "Check for missing values in the DataFrame. Report which columns have missing values and the count of missing values in each of those columns."
      ],
      "metadata": {
        "id": "q5hjVxKFu-jN"
      }
    },
    {
      "cell_type": "code",
      "source": [
        "\n",
        "\n",
        "\n",
        "\n",
        "\n",
        "\n",
        "\n",
        "\n",
        "\n",
        "\n",
        "\n",
        "\n",
        "\n",
        "\n",
        "\n",
        "\n"
      ],
      "metadata": {
        "id": "FQYUnLIeu-yn"
      },
      "execution_count": null,
      "outputs": []
    },
    {
      "cell_type": "markdown",
      "source": [
        "\n",
        "\n",
        "---\n",
        "\n",
        "\n",
        "\n",
        "---\n",
        "\n",
        "\n",
        "\n",
        "---\n",
        "\n"
      ],
      "metadata": {
        "id": "_b2gOxiWz91Z"
      }
    },
    {
      "cell_type": "markdown",
      "source": [
        "# **Question 8**"
      ],
      "metadata": {
        "id": "59kSXWHiz8Fa"
      }
    },
    {
      "cell_type": "markdown",
      "source": [
        "Replace Missing Values with Zero\n",
        "\n",
        "Replace any missing values in the DataFrame with zero. Note: If the original DataFrame doesn't have missing values, introduce a few for demonstration."
      ],
      "metadata": {
        "id": "zw4MrWzSu-8a"
      }
    },
    {
      "cell_type": "code",
      "source": [
        "\n",
        "\n",
        "\n",
        "\n",
        "\n",
        "\n",
        "\n",
        "\n",
        "\n",
        "\n",
        "\n",
        "\n",
        "\n",
        "\n",
        "\n",
        "\n",
        "\n",
        "\n",
        "\n"
      ],
      "metadata": {
        "id": "seNhspwku_Eh"
      },
      "execution_count": null,
      "outputs": []
    },
    {
      "cell_type": "markdown",
      "source": [
        "\n",
        "\n",
        "---\n",
        "\n",
        "---\n",
        "\n",
        "\n",
        "\n",
        "\n",
        "\n",
        "---\n",
        "\n"
      ],
      "metadata": {
        "id": "jFFFqxp-z_Z7"
      }
    },
    {
      "cell_type": "markdown",
      "source": [
        "# **Question 9**"
      ],
      "metadata": {
        "id": "IWAQU1sf0A24"
      }
    },
    {
      "cell_type": "markdown",
      "source": [
        "Group By Department and Calculate Average Salary\n",
        "\n",
        "Use the groupby method to group employees by their department and calculate the average salary in each department."
      ],
      "metadata": {
        "id": "YBwdusbXu_NJ"
      }
    },
    {
      "cell_type": "code",
      "source": [
        "\n",
        "\n",
        "\n",
        "\n",
        "\n",
        "\n",
        "\n",
        "\n",
        "\n",
        "\n",
        "\n",
        "\n",
        "\n",
        "\n",
        "\n"
      ],
      "metadata": {
        "id": "GcZ8OW0Qu_UJ"
      },
      "execution_count": null,
      "outputs": []
    },
    {
      "cell_type": "markdown",
      "source": [
        "\n",
        "\n",
        "---\n",
        "\n",
        "\n",
        "\n",
        "---\n",
        "\n",
        "\n",
        "\n",
        "---\n",
        "\n"
      ],
      "metadata": {
        "id": "qijltLX80DQ1"
      }
    },
    {
      "cell_type": "markdown",
      "source": [
        "# **Question 10**"
      ],
      "metadata": {
        "id": "KMIJ57l30D8i"
      }
    },
    {
      "cell_type": "markdown",
      "source": [
        "Assign a Performance Category to Each Employee\n",
        "\n",
        "Write a function that takes an employee's number of projects completed as input and returns 'High', 'Medium', or 'Low' based on the following criteria:\n",
        "'High' if the number of projects completed is greater than 7.\n",
        "'Medium' if the number of projects completed is between 4 and 7 (inclusive).\n",
        "'Low' if the number of projects completed is less than 4.\n",
        "Apply this function to the projects_completed column to create a new column named performance."
      ],
      "metadata": {
        "id": "OuuXaaqjvl1P"
      }
    },
    {
      "cell_type": "code",
      "source": [
        "\n",
        "\n",
        "\n",
        "\n",
        "\n",
        "\n",
        "\n",
        "\n",
        "\n",
        "\n",
        "\n",
        "\n",
        "\n",
        "\n",
        "\n",
        "\n",
        "\n"
      ],
      "metadata": {
        "id": "1g3Vr6S7vl_Z"
      },
      "execution_count": null,
      "outputs": []
    },
    {
      "cell_type": "markdown",
      "source": [
        "\n",
        "\n",
        "---\n",
        "\n",
        "\n",
        "\n",
        "---\n",
        "\n",
        "\n",
        "\n",
        "---\n",
        "\n"
      ],
      "metadata": {
        "id": "DZc2yz-t0HCt"
      }
    },
    {
      "cell_type": "markdown",
      "source": [
        "# **Question 11**"
      ],
      "metadata": {
        "id": "67HPUVFHvmJS"
      }
    },
    {
      "cell_type": "markdown",
      "source": [
        "Calculate Adjusted Salary\n",
        "\n",
        "Write a function that calculates an adjusted salary for each employee based on their performance category. The function should take the original salary and the performance category as inputs and increase the salary by:\n",
        "10% for 'High' performance.\n",
        "5% for 'Medium' performance.\n",
        "No change for 'Low' performance.\n",
        "Use a loop to apply this function across the DataFrame and create a new column named adjusted_salary."
      ],
      "metadata": {
        "id": "fZ51pC9dvmZ9"
      }
    },
    {
      "cell_type": "code",
      "source": [
        "\n",
        "\n",
        "\n",
        "\n",
        "\n",
        "\n",
        "\n",
        "\n",
        "\n",
        "\n",
        "\n",
        "\n",
        "\n",
        "\n",
        "\n",
        "\n",
        "\n"
      ],
      "metadata": {
        "id": "O7zqR1IHvmiB"
      },
      "execution_count": null,
      "outputs": []
    }
  ]
}