{
  "nbformat": 4,
  "nbformat_minor": 0,
  "metadata": {
    "colab": {
      "provenance": []
    },
    "kernelspec": {
      "name": "python3",
      "display_name": "Python 3"
    },
    "language_info": {
      "name": "python"
    }
  },
  "cells": [
    {
      "cell_type": "markdown",
      "source": [
        "# **<center> Week10-Homework: OOP, File I/O, Exception &ndash; DATA 3401 (Spring 2024)</center>**\n",
        "\n",
        "## Lab Dates: 3/22\n",
        "\n",
        "## Due date: 3/29 at 3 pm\n",
        "\n",
        "## Lab Description\n",
        "\n",
        "The purpose of this lab is for you to\n",
        "\n",
        "- OOP\n",
        "- Fine I/O\n",
        "- Exception"
      ],
      "metadata": {
        "id": "S6G4O1LNp_jW"
      }
    },
    {
      "cell_type": "markdown",
      "source": [
        "\n",
        "\n",
        "---\n",
        "\n",
        "\n",
        "\n",
        "---\n",
        "\n",
        "\n",
        "\n",
        "---\n",
        "\n"
      ],
      "metadata": {
        "id": "aUvtYL608aHj"
      }
    },
    {
      "cell_type": "markdown",
      "source": [
        "\n",
        "## **Question 1. The Electronics Product Hierarchy**\n",
        "\n",
        "### Tasks:\n",
        "\n",
        "1. **Product Class (Superclass):**\n",
        "   - Define a superclass named `Product` with the following attributes:\n",
        "     - `product_id` (string): The unique identifier for the product.\n",
        "     - `product_name` (string): The name of the product.\n",
        "     - `manufacturer` (string): The company that manufactures the product.\n",
        "     - `price` (float): The retail price of the product.\n",
        "   - Implement an `__init__` method that initializes a `Product` with the attributes listed above.\n",
        "   - Include the following methods in the `Product` class:\n",
        "     - `display_info()`: Prints the product's details, including its ID, name, manufacturer, and price.\n",
        "     - `apply_discount(discount_rate)`: Applies a percentage discount to the price and updates the price attribute.\n",
        "\n",
        "2. **Laptop Class (Subclass):**\n",
        "   - Create a subclass named `Laptop` that inherits from `Product`. Add the following additional attributes:\n",
        "     - `cpu` (string): The processor model in the laptop.\n",
        "     - `ram` (integer): The amount of RAM in gigabytes.\n",
        "     - `storage` (integer): The storage capacity in gigabytes.\n",
        "     - `screen_size` (float): The size of the laptop's screen in inches.\n",
        "   - Override the `__init__` method to include initialization of the new attributes while ensuring the inherited attributes are also initialized.\n",
        "   - Override the `display_info()` method to include the laptop's specifications.\n",
        "\n",
        "3. **Smartphone Class (Subclass):**\n",
        "   - Create a subclass named `Smartphone` that inherits from `Product`. Add the following additional attributes:\n",
        "     - `camera_resolution` (float): The camera's resolution in megapixels.\n",
        "     - `battery_life` (float): The estimated battery life in hours.\n",
        "     - `water_resistant` (boolean): Indicates whether the smartphone is water-resistant.\n",
        "   - Override the `__init__` method to include initialization of the new attributes while ensuring the inherited attributes are also initialized.\n",
        "   - Override the `display_info()` method to include camera resolution, battery life, and water resistance.\n",
        "\n",
        "4. **Testing Your Code:**\n",
        "   - Create instances of `Laptop` and `Smartphone` with relevant attributes.\n",
        "   - Demonstrate the use of each method, including inherited and overridden methods, by interacting with both `Laptop` and `Smartphone` instances.\n"
      ],
      "metadata": {
        "id": "Y0H6oSv2qAY2"
      }
    },
    {
      "cell_type": "code",
      "execution_count": null,
      "metadata": {
        "id": "i9422qZrpxw8"
      },
      "outputs": [],
      "source": [
        "\n",
        "\n",
        "\n",
        "\n",
        "\n",
        "\n",
        "\n",
        "\n",
        "\n",
        "\n",
        "\n",
        "\n",
        "\n",
        "\n",
        "\n",
        "\n",
        "\n",
        "\n",
        "\n",
        "\n",
        "\n",
        "\n",
        "\n",
        "\n",
        "\n",
        "\n",
        "\n"
      ]
    },
    {
      "cell_type": "markdown",
      "source": [
        "\n",
        "\n",
        "---\n",
        "\n",
        "\n",
        "\n",
        "---\n",
        "\n",
        "\n",
        "\n",
        "---\n",
        "\n"
      ],
      "metadata": {
        "id": "Hrv2yIYi1Efe"
      }
    },
    {
      "cell_type": "markdown",
      "source": [
        "## **Question 2: Safely Writing to a File**\n",
        "Develop a Python program that safely writes user input to a file named feedback.txt. The program should ask users for their feedback and then append it to the file, ensuring that no data is lost if an error occurs during the file writing process. Implement appropriate exception handling and user prompts to guide the process."
      ],
      "metadata": {
        "id": "3CqHMPL01QzE"
      }
    },
    {
      "cell_type": "code",
      "source": [
        "\n",
        "\n",
        "\n",
        "\n",
        "\n",
        "\n",
        "\n",
        "\n",
        "\n",
        "\n",
        "\n",
        "\n",
        "\n",
        "\n",
        "\n",
        "\n",
        "\n",
        "\n"
      ],
      "metadata": {
        "id": "gC0P3EPt1Q6h"
      },
      "execution_count": null,
      "outputs": []
    },
    {
      "cell_type": "markdown",
      "source": [
        "\n",
        "\n",
        "---\n",
        "\n",
        "\n",
        "\n",
        "---\n",
        "\n",
        "\n",
        "\n",
        "---\n",
        "\n"
      ],
      "metadata": {
        "id": "YPPfN3gD26ID"
      }
    },
    {
      "cell_type": "markdown",
      "source": [
        "## **Question 3: Validating User Input**\n",
        "For a user registration form, you are required to validate the user's age to ensure it's a positive integer. Your task is to write a function that processes this input and catches any potential errors, thereby preventing the application from crashing and providing a friendly error message to the user.\n",
        "\n",
        "**Task:**\n",
        "Create a Python function named validate_user_age that asks for the user's age and prints \"Age validated successfully.\" if the input is a positive integer. The function should handle the following error conditions:\n",
        "\n",
        "- If the input is not an integer, catch a ValueError and print \"Error: Age must be a number.\"\n",
        "- If the input is a negative number, print \"Error: Age cannot be negative.\"\n",
        "- For any other unexpected error, print \"An unspecified error occurred.\" along with the error message.\n",
        "Test your function by providing it with various inputs to ensure it correctly handles validation."
      ],
      "metadata": {
        "id": "wk3qalR13O28"
      }
    },
    {
      "cell_type": "code",
      "source": [
        "\n",
        "\n",
        "\n",
        "\n",
        "\n",
        "\n",
        "\n",
        "\n",
        "\n",
        "\n",
        "\n",
        "\n",
        "\n",
        "\n",
        "\n",
        "\n",
        "\n",
        "\n",
        "\n"
      ],
      "metadata": {
        "id": "01QGo8_73O_V"
      },
      "execution_count": null,
      "outputs": []
    },
    {
      "cell_type": "markdown",
      "source": [
        "\n",
        "\n",
        "---\n",
        "\n",
        "---\n",
        "\n",
        "\n",
        "\n",
        "---\n",
        "\n",
        "\n",
        "\n",
        "---\n",
        "\n",
        "\n",
        "\n"
      ],
      "metadata": {
        "id": "skGLSg7v6sVy"
      }
    },
    {
      "cell_type": "markdown",
      "source": [
        "## **Question 4: Summing Numbers from a File**\n",
        "Create a Python program that reads numbers from a file named numbers.txt, where each line contains a single number. Your program should calculate the sum of these numbers and print the result. Ensure your program handles any file-related errors gracefully."
      ],
      "metadata": {
        "id": "3y5n-F8y4ET7"
      }
    },
    {
      "cell_type": "code",
      "source": [
        "\n",
        "\n",
        "\n",
        "\n",
        "\n",
        "\n",
        "\n",
        "\n",
        "\n",
        "\n",
        "\n",
        "\n",
        "\n",
        "\n",
        "\n",
        "\n",
        "\n",
        "\n",
        "\n"
      ],
      "metadata": {
        "id": "aC0nfonR4AVD"
      },
      "execution_count": null,
      "outputs": []
    },
    {
      "cell_type": "markdown",
      "source": [
        "## **Question 5: Filtering Specific Lines from a File**\n",
        "You are given a file named logs.txt containing application logs. Write a Python script to read this file and print only the lines that contain the word \"ERROR\". Ensure your script handles the case where the file might not exist."
      ],
      "metadata": {
        "id": "Dla2iJ7W4UA8"
      }
    },
    {
      "cell_type": "code",
      "source": [
        "\n",
        "\n",
        "\n",
        "\n",
        "\n",
        "\n",
        "\n",
        "\n",
        "\n",
        "\n",
        "\n",
        "\n",
        "\n",
        "\n",
        "\n",
        "\n",
        "\n",
        "\n"
      ],
      "metadata": {
        "id": "9OEO51up4UHV"
      },
      "execution_count": null,
      "outputs": []
    }
  ]
}