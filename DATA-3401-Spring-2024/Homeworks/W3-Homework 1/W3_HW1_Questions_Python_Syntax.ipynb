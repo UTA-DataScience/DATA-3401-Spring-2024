{
  "cells": [
    {
      "cell_type": "markdown",
      "id": "64b779d8",
      "metadata": {
        "id": "64b779d8"
      },
      "source": [
        "## **Homework 2: Basic Markdown, Python Variables, Math Operations, User Input, and PEMDAS**\n",
        "\n",
        "This homework is designed to enhance your understanding of several fundamental concepts in Python and Jupyter Notebooks, including Markdown formatting, variable assignment, basic mathematics operations, handling user input, and the order of operations (PEMDAS).\n",
        "\n",
        "**Instructions:**\n",
        "- Answer each question in the notebook, using a Markdown cell for explanations and a code cell for Python code.\n",
        "- Ensure to execute your Python code to display the answers where applicable.\n"
      ]
    },
    {
      "cell_type": "markdown",
      "id": "ec00d08e",
      "metadata": {
        "id": "ec00d08e"
      },
      "source": [
        "1. Show what Markdown is used for in Jupyter Notebooks."
      ]
    },
    {
      "cell_type": "code",
      "source": [
        "\n",
        "\n",
        "\n",
        "\n",
        "\n"
      ],
      "metadata": {
        "id": "EthAekKTyeBX"
      },
      "id": "EthAekKTyeBX",
      "execution_count": null,
      "outputs": []
    },
    {
      "cell_type": "markdown",
      "id": "9f44594b",
      "metadata": {
        "id": "9f44594b"
      },
      "source": [
        "2. Show how to format text to be bold in Markdown? Provide an example."
      ]
    },
    {
      "cell_type": "code",
      "source": [
        "\n",
        "\n",
        "\n",
        "\n"
      ],
      "metadata": {
        "id": "dyEdcesiyngl"
      },
      "id": "dyEdcesiyngl",
      "execution_count": null,
      "outputs": []
    },
    {
      "cell_type": "markdown",
      "id": "d3729096",
      "metadata": {
        "id": "d3729096"
      },
      "source": [
        "3. Create a Python variable named `a` and assign it the value 5."
      ]
    },
    {
      "cell_type": "code",
      "execution_count": null,
      "id": "59ee5aa4",
      "metadata": {
        "id": "59ee5aa4"
      },
      "outputs": [],
      "source": [
        "\n",
        "\n",
        "\n",
        "\n",
        "\n"
      ]
    },
    {
      "cell_type": "markdown",
      "id": "4ea5fd99",
      "metadata": {
        "id": "4ea5fd99"
      },
      "source": [
        "4. Perform an addition operation with any two numbers and display the result."
      ]
    },
    {
      "cell_type": "code",
      "execution_count": null,
      "id": "8b419b80",
      "metadata": {
        "id": "8b419b80"
      },
      "outputs": [],
      "source": [
        "\n",
        "\n",
        "\n",
        "\n"
      ]
    },
    {
      "cell_type": "markdown",
      "id": "809fea36",
      "metadata": {
        "id": "809fea36"
      },
      "source": [
        "5. Divide 15 by 3 and show the result."
      ]
    },
    {
      "cell_type": "code",
      "execution_count": null,
      "id": "be300337",
      "metadata": {
        "id": "be300337"
      },
      "outputs": [],
      "source": [
        "\n",
        "\n",
        "\n",
        "\n",
        "\n",
        "\n"
      ]
    },
    {
      "cell_type": "markdown",
      "id": "7b0f891c",
      "metadata": {
        "id": "7b0f891c"
      },
      "source": [
        "6. Use the `input()` function to ask the user for their name and then greet them."
      ]
    },
    {
      "cell_type": "code",
      "execution_count": null,
      "id": "ab2198cc",
      "metadata": {
        "id": "ab2198cc"
      },
      "outputs": [],
      "source": [
        "\n",
        "\n",
        "\n",
        "\n",
        "\n",
        "\n"
      ]
    },
    {
      "cell_type": "markdown",
      "id": "181413d2",
      "metadata": {
        "id": "181413d2"
      },
      "source": [
        "7. Calculate the square of 7 and display the result."
      ]
    },
    {
      "cell_type": "code",
      "execution_count": null,
      "id": "18b86315",
      "metadata": {
        "id": "18b86315"
      },
      "outputs": [],
      "source": [
        "\n",
        "\n",
        "\n",
        "\n",
        "\n",
        "\n",
        "\n",
        "\n"
      ]
    },
    {
      "cell_type": "markdown",
      "id": "7a0f4c79",
      "metadata": {
        "id": "7a0f4c79"
      },
      "source": [
        "8. Ask the user for a number, multiply it by 2, and display the result."
      ]
    },
    {
      "cell_type": "code",
      "execution_count": null,
      "id": "206d8834",
      "metadata": {
        "id": "206d8834"
      },
      "outputs": [],
      "source": [
        "\n",
        "\n",
        "\n",
        "\n",
        "\n",
        "\n",
        "\n",
        "\n"
      ]
    },
    {
      "cell_type": "markdown",
      "id": "ea0dd3a5",
      "metadata": {
        "id": "ea0dd3a5"
      },
      "source": [
        "9. Write a program that converts time from hours to seconds. Ask the user to input the time in hours, and then convert that time into seconds. Remember, 1 hour equals 3600 seconds."
      ]
    },
    {
      "cell_type": "code",
      "source": [
        "\n",
        "\n",
        "\n",
        "\n",
        "\n",
        "\n",
        "\n"
      ],
      "metadata": {
        "id": "K5F9Y3ZPzMlD"
      },
      "id": "K5F9Y3ZPzMlD",
      "execution_count": null,
      "outputs": []
    },
    {
      "cell_type": "markdown",
      "id": "33988976",
      "metadata": {
        "id": "33988976"
      },
      "source": [
        "10. Evaluate the expression `3 * (4 + 5) - 6 / 2` and display the result."
      ]
    },
    {
      "cell_type": "code",
      "execution_count": null,
      "id": "e346f170",
      "metadata": {
        "id": "e346f170"
      },
      "outputs": [],
      "source": [
        "\n",
        "\n",
        "\n",
        "\n",
        "\n",
        "\n",
        "\n"
      ]
    },
    {
      "cell_type": "markdown",
      "id": "238b253e",
      "metadata": {
        "id": "238b253e"
      },
      "source": [
        "11. Assign the string 'Python' to a variable and print it."
      ]
    },
    {
      "cell_type": "code",
      "execution_count": null,
      "id": "c390538f",
      "metadata": {
        "id": "c390538f"
      },
      "outputs": [],
      "source": [
        "\n",
        "\n",
        "\n",
        "\n",
        "\n",
        "\n",
        "\n"
      ]
    },
    {
      "cell_type": "markdown",
      "id": "7c5a89d6",
      "metadata": {
        "id": "7c5a89d6"
      },
      "source": [
        "12. Calculate the remainder when 22 is divided by 5."
      ]
    },
    {
      "cell_type": "code",
      "execution_count": null,
      "id": "db0b5ac5",
      "metadata": {
        "id": "db0b5ac5"
      },
      "outputs": [],
      "source": [
        "\n",
        "\n",
        "\n",
        "\n",
        "\n",
        "\n",
        "\n"
      ]
    },
    {
      "cell_type": "markdown",
      "id": "6dbc6d95",
      "metadata": {
        "id": "6dbc6d95"
      },
      "source": [
        "\n",
        "13. Ask the user for two numbers, add them together, and display the sum."
      ]
    },
    {
      "cell_type": "code",
      "execution_count": null,
      "id": "8fa878a0",
      "metadata": {
        "id": "8fa878a0"
      },
      "outputs": [],
      "source": [
        "\n",
        "\n",
        "\n",
        "\n",
        "\n",
        "\n",
        "\n",
        "\n"
      ]
    },
    {
      "cell_type": "markdown",
      "source": [
        "14. Write a Python code snippet that takes user input and prints the type of the input variable."
      ],
      "metadata": {
        "id": "Xfr-7PXNAsTJ"
      },
      "id": "Xfr-7PXNAsTJ"
    },
    {
      "cell_type": "code",
      "source": [
        "\n",
        "\n",
        "\n",
        "\n",
        "\n",
        "\n",
        "\n",
        "\n",
        "\n"
      ],
      "metadata": {
        "id": "rM_ZHEpoAsdh"
      },
      "id": "rM_ZHEpoAsdh",
      "execution_count": null,
      "outputs": []
    },
    {
      "cell_type": "markdown",
      "id": "a5d705bf",
      "metadata": {
        "id": "a5d705bf"
      },
      "source": [
        "15. Calculate the product of 8 and 12, then subtract 4 and display the result."
      ]
    },
    {
      "cell_type": "code",
      "execution_count": null,
      "id": "18b337a3",
      "metadata": {
        "id": "18b337a3"
      },
      "outputs": [],
      "source": [
        "\n",
        "\n",
        "\n",
        "\n",
        "\n",
        "\n",
        "\n",
        "\n"
      ]
    },
    {
      "cell_type": "markdown",
      "id": "672bab76",
      "metadata": {
        "id": "672bab76"
      },
      "source": [
        "16. Explain the difference between `==` and `=` in Python."
      ]
    },
    {
      "cell_type": "code",
      "source": [
        "\n",
        "\n",
        "\n",
        "\n",
        "\n",
        "\n",
        "\n",
        "\n"
      ],
      "metadata": {
        "id": "fOf-_TJuyqN9"
      },
      "id": "fOf-_TJuyqN9",
      "execution_count": null,
      "outputs": []
    },
    {
      "cell_type": "markdown",
      "id": "68b3a3ff",
      "metadata": {
        "id": "68b3a3ff"
      },
      "source": [
        "17. Use Python to find the floor division of 100 by 11."
      ]
    },
    {
      "cell_type": "code",
      "execution_count": null,
      "id": "ae879bf3",
      "metadata": {
        "id": "ae879bf3"
      },
      "outputs": [],
      "source": [
        "\n",
        "\n",
        "\n",
        "\n",
        "\n",
        "\n",
        "\n",
        "\n"
      ]
    },
    {
      "cell_type": "markdown",
      "id": "ffd04019",
      "metadata": {
        "id": "ffd04019"
      },
      "source": [
        "18. Ask the user for a number, then calculate the square of that number."
      ]
    },
    {
      "cell_type": "code",
      "execution_count": null,
      "id": "c616706b",
      "metadata": {
        "id": "c616706b"
      },
      "outputs": [],
      "source": [
        "\n",
        "\n",
        "\n",
        "\n",
        "\n",
        "\n",
        "\n",
        "\n",
        "\n"
      ]
    },
    {
      "cell_type": "markdown",
      "id": "b1d61384",
      "metadata": {
        "id": "b1d61384"
      },
      "source": [
        "19. What does the `%` operator do in Python? Provide an example."
      ]
    },
    {
      "cell_type": "code",
      "execution_count": null,
      "id": "c4d33464",
      "metadata": {
        "id": "c4d33464"
      },
      "outputs": [],
      "source": [
        "\n",
        "\n",
        "\n",
        "\n",
        "\n",
        "\n"
      ]
    },
    {
      "cell_type": "markdown",
      "id": "ff3ed06e",
      "metadata": {
        "id": "ff3ed06e"
      },
      "source": [
        "20. Using variables, demonstrate how to calculate and print the area of a rectangle (length * width)."
      ]
    },
    {
      "cell_type": "code",
      "execution_count": null,
      "id": "692bbc9c",
      "metadata": {
        "id": "692bbc9c"
      },
      "outputs": [],
      "source": [
        "\n",
        "\n",
        "\n",
        "\n",
        "\n",
        "\n"
      ]
    }
  ],
  "metadata": {
    "colab": {
      "provenance": []
    },
    "language_info": {
      "name": "python"
    },
    "kernelspec": {
      "name": "python3",
      "display_name": "Python 3"
    }
  },
  "nbformat": 4,
  "nbformat_minor": 5
}