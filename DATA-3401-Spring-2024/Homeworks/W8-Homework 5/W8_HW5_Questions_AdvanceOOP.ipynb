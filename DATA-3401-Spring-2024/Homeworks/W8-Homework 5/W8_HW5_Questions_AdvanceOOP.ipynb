{
  "nbformat": 4,
  "nbformat_minor": 0,
  "metadata": {
    "colab": {
      "provenance": []
    },
    "kernelspec": {
      "name": "python3",
      "display_name": "Python 3"
    },
    "language_info": {
      "name": "python"
    }
  },
  "cells": [
    {
      "cell_type": "markdown",
      "source": [
        "# **Homework 5: Object-oriented programming (OOP)**"
      ],
      "metadata": {
        "id": "VIqeR4FVugAQ"
      }
    },
    {
      "cell_type": "markdown",
      "source": [
        "\n",
        "\n",
        "---\n",
        "\n"
      ],
      "metadata": {
        "id": "PlNGTcJklrss"
      }
    },
    {
      "cell_type": "markdown",
      "source": [
        "## **Question 1:**"
      ],
      "metadata": {
        "id": "o5-4KRh1uZCH"
      }
    },
    {
      "cell_type": "markdown",
      "source": [
        "Create a Python class hierarchy to model a zoo. The base class should be called Animal, and it should have attributes name and species. Implement subclasses for specific types of animals, such as Lion, Elephant, and Giraffe. Each subclass should have a method speak that returns the sound the animal makes. Additionally, create a class called Zoo that can hold a collection of animals and has a method list_animals that prints the names and species of all animals in the zoo."
      ],
      "metadata": {
        "id": "tYCRpH7cutma"
      }
    },
    {
      "cell_type": "code",
      "execution_count": null,
      "metadata": {
        "id": "18Q5INeWuVo7"
      },
      "outputs": [],
      "source": [
        "\n",
        "\n",
        "\n",
        "\n",
        "\n",
        "\n",
        "\n",
        "\n",
        "\n",
        "\n",
        "\n",
        "\n",
        "\n",
        "\n",
        "\n"
      ]
    },
    {
      "cell_type": "markdown",
      "source": [
        "\n",
        "\n",
        "---\n",
        "\n",
        "\n",
        "\n",
        "---\n",
        "\n"
      ],
      "metadata": {
        "id": "zYPrqH7Eu7uc"
      }
    },
    {
      "cell_type": "markdown",
      "source": [
        "## **Question 2:**"
      ],
      "metadata": {
        "id": "oUJFw2eHu73W"
      }
    },
    {
      "cell_type": "markdown",
      "source": [
        "Create a `Python` class hierarchy to model a university.\n",
        "\n",
        "- The base class should be called Person, which has attributes name and age.\n",
        "- Implement subclasses for students (Student) and faculty members (Faculty), which inherit from Person.\n",
        "- Each subclass should have additional attributes (student_id for students and employee_id for faculty) and methods (study for students and teach for faculty) specific to their roles.\n",
        "- Additionally, create a class called University that can hold a collection of students and faculty and has methods list_students and list_faculty to display their information.\n",
        "\n"
      ],
      "metadata": {
        "id": "dNhGPlfRvEu8"
      }
    },
    {
      "cell_type": "code",
      "source": [
        "\n",
        "\n",
        "\n",
        "\n",
        "\n",
        "\n",
        "\n",
        "\n",
        "\n",
        "\n",
        "\n",
        "\n",
        "\n"
      ],
      "metadata": {
        "id": "-1Ugv6asuw9O"
      },
      "execution_count": null,
      "outputs": []
    },
    {
      "cell_type": "markdown",
      "source": [
        "\n",
        "\n",
        "---\n",
        "\n"
      ],
      "metadata": {
        "id": "XT02YeZjxdCs"
      }
    },
    {
      "cell_type": "markdown",
      "source": [
        "## **Question 3:**"
      ],
      "metadata": {
        "id": "PKFjn9RQxdKh"
      }
    },
    {
      "cell_type": "markdown",
      "source": [
        "### 1. Design a class hierarchy to represent different types of vehicles in a transportation system. Start with a base class called Vehicle with the following attributes and methods:\n",
        "\n",
        "**Attributes:**\n",
        "\n",
        "- make (string)\n",
        "- model (string)\n",
        "- year (integer)\n",
        "- fuel (float)\n",
        "\n",
        "**Methods:**\n",
        "\n",
        "- __init__(self, make, model, year, fuel): Initialize the attributes.\n",
        "- info(self): Print basic information about the vehicle, including make, model, year, and fuel efficiency.\n",
        "\n",
        "Next, create two subclasses that inherit from Vehicle:\n",
        "\n",
        "### 2. Create a subclass called Car with the following additional attributes and methods:\n",
        "\n",
        "**Attributes:**\n",
        "\n",
        "- num_doors (integer)\n",
        "- is_sedan (boolean)\n",
        "\n",
        "\n",
        "**Methods:**\n",
        "\n",
        "- __init__(self, make, model, year, fuel, num_doors, is_sedan): Initialize the attributes.\n",
        "- display_car_info(self): Print detailed information about the car, including the number of doors and whether it's a sedan.\n",
        "\n",
        "\n",
        "### 3. Create a subclass called Motorcycle with the following additional attributes and methods:\n",
        "\n",
        "**Attributes:**\n",
        "\n",
        "- top_speed (integer)\n",
        "- engine_size (float)\n",
        "\n",
        "\n",
        "**Methods:**\n",
        "\n",
        "- __init__(self, make, model, year, fuel, top_speed, engine_size): Initialize the attributes.\n",
        "- display_motorcycle_info(self): Print detailed information about the motorcycle, including top speed and engine size.\n",
        "\n",
        "\n",
        "Finally, create instances of both Car and Motorcycle classes and demonstrate the use of their methods to display information about each vehicle."
      ],
      "metadata": {
        "id": "i9czG4jTxdvg"
      }
    },
    {
      "cell_type": "code",
      "source": [
        "\n",
        "\n",
        "\n",
        "\n",
        "\n",
        "\n",
        "\n",
        "\n",
        "\n",
        "\n",
        "\n",
        "\n",
        "\n",
        "\n",
        "\n",
        "\n",
        "\n",
        "\n",
        "\n"
      ],
      "metadata": {
        "id": "zWlyKtMwySj_"
      },
      "execution_count": null,
      "outputs": []
    }
  ]
}