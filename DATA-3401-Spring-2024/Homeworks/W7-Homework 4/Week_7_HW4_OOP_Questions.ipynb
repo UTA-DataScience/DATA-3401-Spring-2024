{
  "nbformat": 4,
  "nbformat_minor": 0,
  "metadata": {
    "colab": {
      "provenance": []
    },
    "kernelspec": {
      "name": "python3",
      "display_name": "Python 3"
    },
    "language_info": {
      "name": "python"
    }
  },
  "cells": [
    {
      "cell_type": "markdown",
      "source": [
        "# **Week 7- HW4. Basic OOP_Questions**"
      ],
      "metadata": {
        "id": "4Sy_0TpdKeil"
      }
    },
    {
      "cell_type": "markdown",
      "source": [
        "# **Question 1: Create a Simple Calculator Class**\n",
        "\n",
        "Define a Python class named `Calculator` that can perform basic arithmetic operations: addition, subtraction, multiplication, and division. The class should include the following methods:\n",
        "\n",
        "- `add(x, y)`: Returns the sum of `x` and `y`.\n",
        "- `subtract(x, y)`: Returns the difference between `x` and `y`.\n",
        "- `multiply(x, y)`: Returns the product of `x` and `y`.\n",
        "- `divide(x, y)`: Returns the quotient of `x` divided by `y`. This method should handle division by zero by returning a suitable message.\n"
      ],
      "metadata": {
        "id": "EeTFKinbKlrO"
      }
    },
    {
      "cell_type": "code",
      "execution_count": 7,
      "metadata": {
        "id": "qoV_Gpb5J_Ir"
      },
      "outputs": [],
      "source": [
        "\n",
        "\n",
        "\n",
        "\n",
        "\n",
        "\n",
        "\n",
        "\n",
        "\n",
        "\n",
        "\n",
        "\n",
        "\n",
        "\n",
        "\n"
      ]
    },
    {
      "cell_type": "markdown",
      "source": [
        "\n",
        "\n",
        "---\n",
        "\n",
        "\n",
        "\n",
        "---\n",
        "\n",
        "\n",
        "\n",
        "---\n",
        "\n"
      ],
      "metadata": {
        "id": "RXMcc7KWKySx"
      }
    },
    {
      "cell_type": "markdown",
      "source": [
        "# **Question 2: Implement a Book Class**\n",
        "\n",
        "Create a class named `Book` that represents information about a book. The class should include the following attributes:\n",
        "\n",
        "- `title` (string): The title of the book.\n",
        "- `author` (string): The author of the book.\n",
        "- `isbn` (string): The International Standard Book Number (ISBN) of the book.\n",
        "- `total_pages` (integer): The total number of pages in the book.\n",
        "\n",
        "## Methods\n",
        "\n",
        "- `__init__(self, title, author, isbn, total_pages)`: Initializes a new instance of the `Book` class with the specified title, author, ISBN, and total number of pages.\n",
        "- `get_book_info(self)`: Returns a string containing the book's title, author, and ISBN.\n",
        "- `is_long_book(self)`: Returns `True` if the book has more than 500 pages, otherwise `False`.\n"
      ],
      "metadata": {
        "id": "kx13V-ESKzdO"
      }
    },
    {
      "cell_type": "code",
      "source": [
        "\n",
        "\n",
        "\n",
        "\n",
        "\n",
        "\n",
        "\n",
        "\n",
        "\n",
        "\n",
        "\n",
        "\n",
        "\n",
        "\n",
        "\n"
      ],
      "metadata": {
        "id": "Uyv2j8X7KyiG"
      },
      "execution_count": 7,
      "outputs": []
    },
    {
      "cell_type": "markdown",
      "source": [
        "\n",
        "\n",
        "---\n",
        "\n",
        "\n",
        "\n",
        "---\n",
        "\n",
        "\n",
        "\n",
        "---\n",
        "\n"
      ],
      "metadata": {
        "id": "SVfbziI_K_v7"
      }
    },
    {
      "cell_type": "markdown",
      "source": [
        "# **Question 3: Design a Temperature Converter Class**\n",
        "\n",
        "Design a class named `TemperatureConverter` that converts temperatures between Fahrenheit and Celsius. The class should provide the following methods:\n",
        "\n",
        "- `fahrenheit_to_celsius(f)`: Converts a temperature from Fahrenheit to Celsius.\n",
        "- `celsius_to_fahrenheit(c)`: Converts a temperature from Celsius to Fahrenheit.\n"
      ],
      "metadata": {
        "id": "AVuIcpHTK_2t"
      }
    },
    {
      "cell_type": "code",
      "source": [
        "\n",
        "\n",
        "\n",
        "\n",
        "\n",
        "\n",
        "\n",
        "\n",
        "\n",
        "\n",
        "\n",
        "\n",
        "\n",
        "\n",
        "\n"
      ],
      "metadata": {
        "id": "kpoW4ESFLIS7"
      },
      "execution_count": 7,
      "outputs": []
    },
    {
      "cell_type": "markdown",
      "source": [
        "\n",
        "\n",
        "---\n",
        "\n",
        "\n",
        "\n",
        "---\n",
        "\n",
        "\n",
        "\n",
        "---\n",
        "\n"
      ],
      "metadata": {
        "id": "YXJvrf_mLI9Q"
      }
    },
    {
      "cell_type": "markdown",
      "source": [
        "# **Question 4: Create a Rectangle Class**\n",
        "\n",
        "Define a class named `Rectangle` with two attributes: `length` and `width`. This class includes methods to calculate the rectangle's area and perimeter, and a method to check if the rectangle is a square.\n",
        "\n",
        "## Attributes\n",
        "\n",
        "- `length` (float): The length of the rectangle.\n",
        "- `width` (float): The width of the rectangle.\n",
        "\n",
        "## Methods\n",
        "\n",
        "- `__init__(self, length, width)`: Initializes a new instance of the `Rectangle` class with the specified length and width.\n",
        "- `area(self)`: Calculates and returns the rectangle's area.\n",
        "- `perimeter(self)`: Calculates and returns the rectangle's perimeter.\n",
        "- `is_square(self)`: Returns `True` if the rectangle is a square (length equals width), otherwise `False`.\n"
      ],
      "metadata": {
        "id": "UTmt7L8SLI_l"
      }
    },
    {
      "cell_type": "code",
      "source": [
        "\n",
        "\n",
        "\n",
        "\n",
        "\n",
        "\n",
        "\n",
        "\n",
        "\n",
        "\n",
        "\n",
        "\n",
        "\n",
        "\n",
        "\n",
        "\n",
        "\n",
        "\n",
        "\n",
        "\n"
      ],
      "metadata": {
        "id": "htwVWx7KLWqK"
      },
      "execution_count": 7,
      "outputs": []
    },
    {
      "cell_type": "markdown",
      "source": [
        "\n",
        "\n",
        "---\n",
        "\n",
        "\n",
        "\n",
        "---\n",
        "\n",
        "\n",
        "\n",
        "---\n",
        "\n"
      ],
      "metadata": {
        "id": "2rlxj37ILg29"
      }
    },
    {
      "cell_type": "markdown",
      "source": [
        "# **Question 5: Develop a Student Class**\n",
        "\n",
        "Create a class named `Student` with the following attributes:\n",
        "\n",
        "- `name` (string): The student's name.\n",
        "- `age` (integer): The student's age.\n",
        "- `grades` (list of integers): A list of the student's grades.\n",
        "\n",
        "## Methods\n",
        "\n",
        "- `__init__(self, name, age, grades)`: Initializes a new instance of the `Student` class with the specified name, age, and list of grades.\n",
        "- `average_grade(self)`: Calculates and returns the student's average grade.\n",
        "- `add_grade(self, grade)`: Adds a new grade to the student's list of grades.\n",
        "- `get_student_info(self)`: Returns a string with the student's name, age, and average grade.\n",
        "\n"
      ],
      "metadata": {
        "id": "yhQYNsGSLhCa"
      }
    },
    {
      "cell_type": "code",
      "source": [
        "\n",
        "\n",
        "\n",
        "\n",
        "\n",
        "\n",
        "\n",
        "\n",
        "\n",
        "\n",
        "\n",
        "\n",
        "\n",
        "\n",
        "\n",
        "\n",
        "\n",
        "\n",
        "\n",
        "\n",
        "\n"
      ],
      "metadata": {
        "id": "NN6wSuclLhRN"
      },
      "execution_count": 7,
      "outputs": []
    },
    {
      "cell_type": "markdown",
      "source": [
        "\n",
        "\n",
        "---\n",
        "\n",
        "\n",
        "\n",
        "---\n",
        "\n",
        "\n",
        "\n",
        "---\n",
        "\n"
      ],
      "metadata": {
        "id": "IaiyPyIAL8f8"
      }
    },
    {
      "cell_type": "markdown",
      "source": [
        "# **Question 6: Employee Management System**\n",
        "\n",
        "Create a class named `Employee` that represents an employee with the following attributes:\n",
        "\n",
        "- `name` (string): The employee's name.\n",
        "- `id_number` (string): The employee's identification number.\n",
        "- `position` (string): The employee's position within the company.\n",
        "- `salary` (float): The employee's current salary.\n",
        "\n",
        "## Methods\n",
        "\n",
        "- `__init__(self, name, id_number, position, salary)`: Initializes a new instance of the `Employee` class with the specified name, identification number, position, and salary.\n",
        "- `update_position(self, new_position)`: Updates the employee's position to `new_position`.\n",
        "- `apply_raise(self, percentage)`: Increases the employee's salary by a given percentage if the salary is less than 50,000; otherwise, apply a fixed bonus of 5,000.\n"
      ],
      "metadata": {
        "id": "-a6eJsw7L8l8"
      }
    },
    {
      "cell_type": "code",
      "source": [
        "\n",
        "\n",
        "\n",
        "\n",
        "\n",
        "\n",
        "\n",
        "\n",
        "\n",
        "\n",
        "\n",
        "\n",
        "\n",
        "\n",
        "\n",
        "\n"
      ],
      "metadata": {
        "id": "O12VbFa6LhTm"
      },
      "execution_count": 7,
      "outputs": []
    },
    {
      "cell_type": "markdown",
      "source": [
        "\n",
        "\n",
        "---\n",
        "\n",
        "\n",
        "\n",
        "---\n",
        "\n",
        "\n",
        "\n",
        "---\n",
        "\n"
      ],
      "metadata": {
        "id": "oSzYPe-OMWHP"
      }
    },
    {
      "cell_type": "markdown",
      "source": [
        "# **Question 7: Library Management System**\n",
        "\n",
        "Define a class named `Library` that manages a collection of books. The class should have the following attribute:\n",
        "\n",
        "- `books` (list of dictionaries): A list where each dictionary represents a book and includes keys for `title`, `author`, and `status` (either `'available'` or `'checked out'`).\n",
        "\n",
        "## Methods\n",
        "\n",
        "- `__init__(self)`: Initializes the library's book collection as an empty list.\n",
        "- `add_book(self, title, author)`: Adds a new book to the collection with the status set as `'available'`.\n",
        "- `check_out_book(self, title)`: Changes the status of a book to `'checked out'` if it is available. Prints an appropriate message if the book is not found or is already checked out.\n",
        "- `return_book(self, title)`: Changes the status of a book to `'available'` if it is currently checked out. Prints a message indicating the book is not found or already available if applicable.\n"
      ],
      "metadata": {
        "id": "qZv75lobMWJj"
      }
    },
    {
      "cell_type": "code",
      "source": [
        "\n",
        "\n",
        "\n",
        "\n",
        "\n",
        "\n",
        "\n",
        "\n",
        "\n",
        "\n",
        "\n",
        "\n",
        "\n",
        "\n",
        "\n",
        "\n",
        "\n",
        "\n",
        "\n",
        "\n",
        "\n",
        "\n"
      ],
      "metadata": {
        "id": "jlUIjBNPMH58"
      },
      "execution_count": 7,
      "outputs": []
    }
  ]
}